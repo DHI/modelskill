{
  "cells": [
    {
      "cell_type": "markdown",
      "metadata": {},
      "source": [
        "# Workflow\n",
        "\n",
        "A typical ModelSkill workflow consists of these four steps:\n",
        "\n",
        "1.  Define **Observations**\n",
        "2.  Define **ModelResults**\n",
        "3.  **Match** observations and ModelResults in space and time\n",
        "4.  Do analysis, plotting, etc with a **Comparer**\n",
        "\n",
        "##  Define Observations\n",
        "\n",
        "The first step is to define the measurements to be used for the skill\n",
        "assessment. Two types of observation are available:\n",
        "\n",
        "-   [`PointObservation`](../api/PointObservation.html#modelskill.PointObservation)\n",
        "-   [`TrackObservation`](../api/TrackObservation.html#modelskill.TrackObservation)\n",
        "\n",
        "Let’s assume that we have one PointObservation and one TrackObservation\n",
        "(`name` is used to identify the observation, similar to the `name` of\n",
        "the model above)."
      ],
      "id": "58b75fe3-30d6-4ba1-8924-ae22e201e17f"
    },
    {
      "cell_type": "code",
      "execution_count": 1,
      "metadata": {},
      "outputs": [],
      "source": [
        "import modelskill as ms\n",
        "hkna = ms.PointObservation(\"../data/SW/HKNA_Hm0.dfs0\", item=0,\n",
        "                            x=4.2420, y=52.6887,\n",
        "                            name=\"HKNA\")\n",
        "\n",
        "c2 = ms.TrackObservation(\"../data/SW/Alti_c2_Dutch.dfs0\", item=3,\n",
        "                          name=\"c2\")"
      ],
      "id": "20a7498a"
    },
    {
      "cell_type": "markdown",
      "metadata": {},
      "source": [
        "In this case both observations are provided as .dfs0 files but pandas\n",
        "dataframes are also supported in case data are stored in another file\n",
        "format.\n",
        "\n",
        "Both PointObservation and TrackObservation need the path of the data\n",
        "file, the item number (or item name) and a name. A PointObservation\n",
        "further needs to be initialized with it's x-, y-position.\n",
        "\n",
        "##  Define ModelResults\n",
        "\n",
        "The result of a simulation is stored in one or more result files,\n",
        "e.g. dfsu, dfs0, nc, csv.\n",
        "\n",
        "The name is used to identify the model result in the plots and tables."
      ],
      "id": "bce1aa59-e979-4a17-ba19-eb630bb618f0"
    },
    {
      "cell_type": "code",
      "execution_count": 2,
      "metadata": {},
      "outputs": [],
      "source": [
        "mr = ms.DfsuModelResult(\"../data/SW/HKZN_local_2017_DutchCoast.dfsu\", \n",
        "                         item=\"Sign. Wave Height\",\n",
        "                         name='HKZN_local')"
      ],
      "id": "afec4234"
    },
    {
      "cell_type": "markdown",
      "metadata": {},
      "source": [
        "##  Match observations and ModelResults\n",
        "\n",
        "The [match()](../api/match.html#modelskill.match) function returns a\n",
        "[Comparer](../api/Comparer.html#modelskill.Comparer) (a single\n",
        "observation) or a\n",
        "[ComparerCollection](../api/ComparerCollection.html#modelskill.ComparerCollection)\n",
        "(multiple observations) for further analysis and plotting."
      ],
      "id": "8919f073-05f3-44b3-8c69-91378240d44e"
    },
    {
      "cell_type": "code",
      "execution_count": 3,
      "metadata": {},
      "outputs": [
        {
          "output_type": "display_data",
          "metadata": {},
          "data": {
            "text/plain": [
              "<ComparerCollection>\n",
              "Comparers:\n",
              "0: HKNA - Significant wave height [m]\n",
              "1: c2 - Significant wave height [m]"
            ]
          }
        }
      ],
      "source": [
        "cc = ms.match([hkna, c2], mr)\n",
        "cc"
      ],
      "id": "b6b2f4f4"
    },
    {
      "cell_type": "markdown",
      "metadata": {},
      "source": [
        "See [matching page](matching.qmd) for more information.\n",
        "\n",
        "##  Do analysis, plotting, etc with a Comparer\n",
        "\n",
        "The object returned by the `match()` function is a\n",
        "*Comparer*/*ComparerCollection*. It holds the matched observation and\n",
        "model data and has methods for plotting and skill assessment.\n",
        "\n",
        "The primary comparer methods are:\n",
        "\n",
        "-   [skill()](../api/ComparerCollection.html#modelskill.ComparerCollection.skill)\n",
        "    which returns a\n",
        "    [SkillTable](../api/SkillTable.html#modelskill.SkillTable) with the\n",
        "    skill scores\n",
        "-   various\n",
        "    [plot](../api/comparison.ComparerCollectionPlotter.html#modelskill.comparison.ComparerCollectionPlotter)\n",
        "    methods of the comparer objects (e.g. `plot.scatter()`,\n",
        "    `plot.timeseries()`)\n",
        "-   [sel()](../api/ComparerCollection.html#modelskill.ComparerCollection.sel)\n",
        "    method for selecting data\n",
        "\n",
        "##  Filtering\n",
        "\n",
        "In order to select only a subset of the data for analysis, the comparer\n",
        "has a `sel()` method which returns a new comparer with the selected\n",
        "data.\n",
        "\n",
        "This method allow filtering of the data in several ways:\n",
        "\n",
        "-   on `observation` by specifying name or index of one or more\n",
        "    observations\n",
        "-   on `model` (if more than one is compared) by giving name or index\n",
        "-   temporal using the `time` (or `start` and `end`) arguments\n",
        "-   spatial using the `area` argument given as a bounding box or a\n",
        "    polygon\n",
        "\n",
        "##  Save / load the ComparerCollection\n",
        "\n",
        "It can be useful to save the comparer collection for later use. This can\n",
        "be done using the `save()` method:\n",
        "\n",
        "``` python\n",
        "cc.save(\"my_comparer_collection.msk\")\n",
        "```\n",
        "\n",
        "The comparer collection can be loaded again from disk, using the\n",
        "`load()` method:\n",
        "\n",
        "``` python\n",
        "cc = ms.load(\"my_comparer_collection.msk\")\n",
        "```"
      ],
      "id": "ffc09a94-3e9a-41e7-9088-2b7669a0e2a6"
    }
  ],
  "nbformat": 4,
  "nbformat_minor": 5,
  "metadata": {
    "kernelspec": {
      "name": "python3",
      "display_name": "Python 3 (ipykernel)",
      "language": "python",
      "path": "/home/runner/work/modelskill/modelskill/.venv/share/jupyter/kernels/python3"
    },
    "language_info": {
      "name": "python",
      "codemirror_mode": {
        "name": "ipython",
        "version": "3"
      },
      "file_extension": ".py",
      "mimetype": "text/x-python",
      "nbconvert_exporter": "python",
      "pygments_lexer": "ipython3",
      "version": "3.12.3"
    }
  }
}