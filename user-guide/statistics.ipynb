{
  "cells": [
    {
      "cell_type": "markdown",
      "metadata": {},
      "source": [
        "# Skill Statistics\n",
        "\n",
        "The [`Comparer`](../api/Comparer.html#modelskill.Comparer) and\n",
        "[`ComparerCollection`](../api/ComparerCollection.html#modelskill.ComparerCollection)\n",
        "objects in ModelSkill allow for detailed performance evaluation of\n",
        "models through skill metrics. These metrics are organized in a\n",
        "[`SkillTable`](../api/SkillTable.html#modelskill.SkillTable) object,\n",
        "which can be further filtered, analyzed, and visualized to gain insights\n",
        "into model accuracy and reliability."
      ],
      "id": "0f5bd3cc-00fb-42f3-8ec7-46b5676f14c2"
    },
    {
      "cell_type": "code",
      "execution_count": 1,
      "metadata": {},
      "outputs": [],
      "source": [
        "import modelskill as ms\n",
        "o1 = ms.observation(\"../data/SW/HKNA_Hm0.dfs0\", item=0,\n",
        "                    x=4.2420, y=52.6887,\n",
        "                    name=\"HKNA\")\n",
        "o2 = ms.observation(\"../data/SW/eur_Hm0.dfs0\", item=0,\n",
        "                    x=3.2760, y=51.9990, \n",
        "                    name=\"EPL\")\n",
        "m1 = ms.model_result(\"../data/SW/HKZN_local_2017_DutchCoast.dfsu\", \n",
        "                      item=\"Sign. Wave Height\",\n",
        "                      name=\"m1\")\n",
        "m2 = ms.model_result(\"../data/SW/CMEMS_DutchCoast_2017-10-28.nc\", \n",
        "                      item=\"VHM0\",\n",
        "                      name=\"m2\")"
      ],
      "id": "36a91f38"
    },
    {
      "cell_type": "code",
      "execution_count": 2,
      "metadata": {},
      "outputs": [
        {
          "output_type": "display_data",
          "metadata": {},
          "data": {
            "text/plain": [
              "<ComparerCollection>\n",
              "Comparers:\n",
              "0: HKNA - Significant wave height [m]\n",
              "1: EPL - Significant wave height [m]"
            ]
          }
        }
      ],
      "source": [
        "cc = ms.match([o1, o2], [m1, m2])\n",
        "cc"
      ],
      "id": "5d8c6efc"
    },
    {
      "cell_type": "markdown",
      "metadata": {},
      "source": [
        "## Generating a SkillTable\n",
        "\n",
        "The\n",
        "[`skill`](../api/ComparerCollection.html#modelskill.ComparerCollection.skill)\n",
        "and\n",
        "[`mean_skill`](../api/ComparerCollection.html#modelskill.ComparerCollection.mean_skill)\n",
        "methods generate a\n",
        "[`SkillTable`](../api/SkillTable.html#modelskill.SkillTable) by\n",
        "comparing observations and model results using various skill metrics. It\n",
        "supports grouping and aggregation through the `by` parameter.\n",
        "\n",
        "**Syntax:** `ComparerCollection.skill(by=None, metrics=None)`\n",
        "\n",
        "| Parameter | Type | Description | Default |\n",
        "|--------|-----------|---------------------------------------------|---------|\n",
        "| `by` | str or list | Group by column names, temporal bins (e.g., `freq:M` for monthly), or attributes like `attrs`. | None |\n",
        "| `metrics` | list | List of metrics (e.g., `rmse`, `bias`). Default uses predefined metrics. | None |\n",
        "|  |  |  |  |\n",
        "\n",
        "**Example 1: Generating a SkillTable**"
      ],
      "id": "10e51864-df73-4456-aede-b54737eb00d7"
    },
    {
      "cell_type": "code",
      "execution_count": 3,
      "metadata": {},
      "outputs": [
        {
          "output_type": "display_data",
          "metadata": {},
          "data": {
            "text/html": [
              "\n",
              "</div>"
            ]
          }
        }
      ],
      "source": [
        "sk = cc.skill(metrics=[\"bias\", \"rmse\", \"si\"])\n",
        "sk"
      ],
      "id": "8cea091c"
    },
    {
      "cell_type": "markdown",
      "metadata": {},
      "source": [
        "This generates a `SkillTable` containing metrics for all observations\n",
        "and models.\n",
        "\n",
        "**Example 2: Grouping skill scores**"
      ],
      "id": "c39d073c-3778-40c6-934d-dc53eb69779f"
    },
    {
      "cell_type": "code",
      "execution_count": 4,
      "metadata": {},
      "outputs": [
        {
          "output_type": "display_data",
          "metadata": {},
          "data": {
            "text/html": [
              "\n",
              "</div>"
            ]
          }
        }
      ],
      "source": [
        "sk_by6hr = cc.skill(by=['model','freq:6h'], \n",
        "                    metrics=[\"bias\", \"mae\"]\n",
        "                    )\n",
        "sk_by6hr"
      ],
      "id": "1de92d32"
    },
    {
      "cell_type": "markdown",
      "metadata": {},
      "source": [
        "Here, skill scores are grouped by 6 hour (`freq:6h`), but it could also\n",
        "be by month or year, making it possible to analyze performance trends\n",
        "over time.\n",
        "\n",
        "## Filtering a SkillTable\n",
        "\n",
        "The [`SkillTable`](../api/SkillTable.html#modelskill.SkillTable) object\n",
        "supports several methods for filtering and refining data. The `sel()`\n",
        "method allows selection of specific models or observations, while the\n",
        "`query()` method enables flexible condition-based filtering.\n",
        "\n",
        "**Example 3: Selecting a specific model**"
      ],
      "id": "09fcda9d-2e04-4fe4-9a02-93bde851dbab"
    },
    {
      "cell_type": "code",
      "execution_count": 5,
      "metadata": {},
      "outputs": [
        {
          "output_type": "display_data",
          "metadata": {},
          "data": {
            "text/html": [
              "\n",
              "</div>"
            ]
          }
        }
      ],
      "source": [
        "sk_m1 = sk.sel(model='m1')\n",
        "sk_m1"
      ],
      "id": "087d0ca0"
    },
    {
      "cell_type": "markdown",
      "metadata": {},
      "source": [
        "This filters the `SkillTable` to include results for the model named\n",
        "“m1”. See more about filtering on the [Selecting data\n",
        "page](selecting-data.qmd).\n",
        "\n",
        "## Sorting a SkillTable\n",
        "\n",
        "The [`SkillTable`](../api/SkillTable.html#modelskill.SkillTable)\n",
        "supports sorting by index or values, and swapping levels in a MultiIndex\n",
        "to reorganize the data.\n",
        "\n",
        "**Example 4: Sorting by index**"
      ],
      "id": "f2c1b361-f12c-4817-8391-b724a662a292"
    },
    {
      "cell_type": "code",
      "execution_count": 6,
      "metadata": {},
      "outputs": [
        {
          "output_type": "display_data",
          "metadata": {},
          "data": {
            "text/html": [
              "\n",
              "</div>"
            ]
          }
        }
      ],
      "source": [
        "sk_sorted = sk.sort_index()\n",
        "sk_sorted"
      ],
      "id": "d78d6a83"
    },
    {
      "cell_type": "markdown",
      "metadata": {},
      "source": [
        "This sorts the `SkillTable` by its index levels.\n",
        "\n",
        "**Example 5: Sorting by a specific index level**"
      ],
      "id": "ee8b1d55-44fb-46d0-a476-a8b14facf1f7"
    },
    {
      "cell_type": "code",
      "execution_count": 7,
      "metadata": {},
      "outputs": [
        {
          "output_type": "display_data",
          "metadata": {},
          "data": {
            "text/html": [
              "\n",
              "</div>"
            ]
          }
        }
      ],
      "source": [
        "sk_sorted_obs = sk.sort_index(level=\"observation\")\n",
        "sk_sorted_obs"
      ],
      "id": "926f1fe4"
    },
    {
      "cell_type": "markdown",
      "metadata": {},
      "source": [
        "Here, the table is sorted specifically by the `observation` level in the\n",
        "index.\n",
        "\n",
        "**Example 6: Sorting by values**"
      ],
      "id": "6a55b21c-1aef-4d6f-be7d-83856aa6200f"
    },
    {
      "cell_type": "code",
      "execution_count": 8,
      "metadata": {},
      "outputs": [
        {
          "output_type": "display_data",
          "metadata": {},
          "data": {
            "text/html": [
              "\n",
              "</div>"
            ]
          }
        }
      ],
      "source": [
        "sk_sorted_values = sk.sort_values(\"rmse\")\n",
        "sk_sorted_values"
      ],
      "id": "832dd1e9"
    },
    {
      "cell_type": "markdown",
      "metadata": {},
      "source": [
        "This sorts the table by the `rmse` column in ascending order.\n",
        "\n",
        "**Example 7: Sorting by multiple values**"
      ],
      "id": "e02feb12-2975-43f8-80f4-5fc3f393bbec"
    },
    {
      "cell_type": "code",
      "execution_count": 9,
      "metadata": {},
      "outputs": [
        {
          "output_type": "display_data",
          "metadata": {},
          "data": {
            "text/html": [
              "\n",
              "</div>"
            ]
          }
        }
      ],
      "source": [
        "sk_sorted_multi = sk.sort_values([\"n\", \"rmse\"], ascending=[True, False])\n",
        "sk_sorted_multi"
      ],
      "id": "a4f9429e"
    },
    {
      "cell_type": "markdown",
      "metadata": {},
      "source": [
        "Here, the table is sorted first by column `n` (ascending) and then by\n",
        "`rmse` (descending).\n",
        "\n",
        "**Example 8: Swapping index levels**"
      ],
      "id": "4525275f-9eb7-40f6-9ce7-297bf9930f58"
    },
    {
      "cell_type": "code",
      "execution_count": 10,
      "metadata": {},
      "outputs": [
        {
          "output_type": "display_data",
          "metadata": {},
          "data": {
            "text/html": [
              "\n",
              "</div>"
            ]
          }
        }
      ],
      "source": [
        "sk_swapped = sk.swaplevel(\"model\", \"observation\").sort_index()\n",
        "sk_swapped"
      ],
      "id": "dd94b804"
    },
    {
      "cell_type": "markdown",
      "metadata": {},
      "source": [
        "This swaps the `model` and `observation` levels in the MultiIndex and\n",
        "sorts the resulting table.\n",
        "\n",
        "## Rounding and Formatting\n",
        "\n",
        "The `round()` method can be used to round all skill values to a\n",
        "specified number of decimal places, making the table more readable.\n",
        "\n",
        "**Example 9: Rounding skill values**"
      ],
      "id": "62ba897d-f874-49c4-992e-3c80d5e5bbfc"
    },
    {
      "cell_type": "code",
      "execution_count": 11,
      "metadata": {},
      "outputs": [
        {
          "output_type": "display_data",
          "metadata": {},
          "data": {
            "text/html": [
              "\n",
              "</div>"
            ]
          }
        }
      ],
      "source": [
        "sk.round(decimals=2)"
      ],
      "id": "c4fed32a"
    },
    {
      "cell_type": "markdown",
      "metadata": {},
      "source": [
        "This rounds all values in the\n",
        "[`SkillTable`](../api/SkillTable.html#modelskill.SkillTable) to two\n",
        "decimal places.\n",
        "\n",
        "## Visualizing Skill Metrics\n",
        "\n",
        "The [`SkillTable`](../api/SkillTable.html#modelskill.SkillTable)\n",
        "integrates table styling and plotting capabilities, allowing you to\n",
        "quickly visualize skill metrics.\n",
        "\n",
        "**Example 10: Styling the SkillTable**"
      ],
      "id": "43a851c8-1235-4502-83b4-c0a2157b2718"
    },
    {
      "cell_type": "code",
      "execution_count": 12,
      "metadata": {},
      "outputs": [
        {
          "output_type": "display_data",
          "metadata": {},
          "data": {
            "text/html": [
              "<style type=\"text/css\">\n",
              "#T_d0998_row0_col1 {\n",
              "  background-color: #c9d7f0;\n",
              "  color: #000000;\n",
              "  text-decoration: underline;\n",
              "  font-style: italic;\n",
              "  font-weight: bold;\n",
              "}\n",
              "#T_d0998_row0_col2, #T_d0998_row1_col3 {\n",
              "  background-color: #fff7ec;\n",
              "  color: #000000;\n",
              "  text-decoration: underline;\n",
              "  font-style: italic;\n",
              "  font-weight: bold;\n",
              "}\n",
              "#T_d0998_row0_col3 {\n",
              "  background-color: #fdc089;\n",
              "  color: #000000;\n",
              "}\n",
              "#T_d0998_row1_col1 {\n",
              "  background-color: #a5c3fe;\n",
              "  color: #000000;\n",
              "}\n",
              "#T_d0998_row1_col2 {\n",
              "  background-color: #feecd1;\n",
              "  color: #000000;\n",
              "}\n",
              "#T_d0998_row2_col1 {\n",
              "  background-color: #3b4cc0;\n",
              "  color: #f1f1f1;\n",
              "}\n",
              "#T_d0998_row2_col2, #T_d0998_row2_col3 {\n",
              "  background-color: #7f0000;\n",
              "  color: #f1f1f1;\n",
              "}\n",
              "#T_d0998_row3_col1 {\n",
              "  background-color: #5673e0;\n",
              "  color: #f1f1f1;\n",
              "}\n",
              "#T_d0998_row3_col2 {\n",
              "  background-color: #e24831;\n",
              "  color: #f1f1f1;\n",
              "}\n",
              "#T_d0998_row3_col3 {\n",
              "  background-color: #fc925e;\n",
              "  color: #000000;\n",
              "}\n",
              "</style>\n"
            ]
          }
        }
      ],
      "source": [
        "sk.style()"
      ],
      "id": "5ce55654"
    },
    {
      "cell_type": "markdown",
      "metadata": {},
      "source": [
        "The `style()` method applies color-based styling to the table, making it\n",
        "easier to identify high and low values.\n",
        "\n",
        "Individual metrics can be accessed as columns and plotted using\n",
        "pandas-style plotting.\n",
        "\n",
        "**Example 11: Plotting a bar chart for RMSE**"
      ],
      "id": "e373e184-38dc-448d-bd84-fed0b221d28d"
    },
    {
      "cell_type": "code",
      "execution_count": 13,
      "metadata": {},
      "outputs": [
        {
          "output_type": "display_data",
          "metadata": {},
          "data": {
            "image/png": "[encoded data removed]"
          }
        }
      ],
      "source": [
        "sk.rmse.plot.bar(figsize=(5,3))"
      ],
      "id": "f72551db"
    },
    {
      "cell_type": "markdown",
      "metadata": {},
      "source": [
        "This creates a bar chart showing RMSE values for each model-observation\n",
        "pair.\n",
        "\n",
        "**Example 12: Line plot**"
      ],
      "id": "22110322-8ead-499a-85bd-87264700d1e6"
    },
    {
      "cell_type": "code",
      "execution_count": 14,
      "metadata": {},
      "outputs": [
        {
          "output_type": "display_data",
          "metadata": {},
          "data": {
            "image/png": "[encoded data removed]"
          }
        }
      ],
      "source": [
        "sk_by3hr = cc.skill(by=['model','freq:3h'])\n",
        "sk_by3hr.rmse.plot.line(title=\"RMSE in 3 hour groups\")"
      ],
      "id": "659abd93"
    },
    {
      "cell_type": "markdown",
      "metadata": {},
      "source": [
        "This generates a line plot showing RMSE values over the index.\n",
        "\n",
        "**Example 13: Bar chart**"
      ],
      "id": "76632e83-8dc6-408e-8f8b-58317dccfc56"
    },
    {
      "cell_type": "code",
      "execution_count": 15,
      "metadata": {},
      "outputs": [
        {
          "output_type": "display_data",
          "metadata": {},
          "data": {
            "image/png": "[encoded data removed]"
          }
        }
      ],
      "source": [
        "sk.rmse.plot.bar()"
      ],
      "id": "29f37576"
    },
    {
      "cell_type": "markdown",
      "metadata": {},
      "source": [
        "This creates a bar chart showing RMSE values for each model-observation\n",
        "pair.\n",
        "\n",
        "**Example 14: Horizontal bar chart**"
      ],
      "id": "e4d068e4-7dd0-4745-b9fb-f47f73c5295f"
    },
    {
      "cell_type": "code",
      "execution_count": 16,
      "metadata": {},
      "outputs": [
        {
          "output_type": "display_data",
          "metadata": {},
          "data": {
            "image/png": "[encoded data removed]"
          }
        }
      ],
      "source": [
        "sk.rmse.plot.barh()"
      ],
      "id": "189d2e46"
    },
    {
      "cell_type": "markdown",
      "metadata": {},
      "source": [
        "This generates a horizontal bar chart for RMSE values.\n",
        "\n",
        "**Example 15: Colored grid**"
      ],
      "id": "1150c625-83c2-4870-bad6-af2b91155411"
    },
    {
      "cell_type": "code",
      "execution_count": 17,
      "metadata": {},
      "outputs": [
        {
          "output_type": "display_data",
          "metadata": {},
          "data": {
            "image/png": "[encoded data removed]"
          }
        }
      ],
      "source": [
        "sk.rmse.plot.grid()"
      ],
      "id": "332cc106"
    },
    {
      "cell_type": "markdown",
      "metadata": {},
      "source": [
        "This produces a colored grid representation of the skill metrics, which\n",
        "can help identify patterns.\n",
        "\n",
        "## Exporting a SkillTable\n",
        "\n",
        "For further analysis, the\n",
        "[`SkillTable`](../api/SkillTable.html#modelskill.SkillTable) can be\n",
        "converted to a standard\n",
        "[`pandas.DataFrame`](https://pandas.pydata.org/docs/reference/api/pandas.DataFrame.html#pandas.DataFrame)\n",
        "or a GeoDataFrame for spatial data.\n",
        "\n",
        "**Example 16: Converting to DataFrame**"
      ],
      "id": "0fa142d7-00e5-4ab9-8c30-5e1972968bce"
    },
    {
      "cell_type": "code",
      "execution_count": 18,
      "metadata": {},
      "outputs": [
        {
          "output_type": "display_data",
          "metadata": {},
          "data": {
            "text/html": [
              "\n",
              "</div>"
            ]
          }
        }
      ],
      "source": [
        "df = sk.to_dataframe()\n",
        "df"
      ],
      "id": "9624d043"
    },
    {
      "cell_type": "markdown",
      "metadata": {},
      "source": [
        "This converts the\n",
        "[`SkillTable`](../api/SkillTable.html#modelskill.SkillTable) into a\n",
        "[`pandas.DataFrame`](https://pandas.pydata.org/docs/reference/api/pandas.DataFrame.html#pandas.DataFrame)\n",
        "for additional processing.\n",
        "\n",
        "**Example 17: Converting to GeoDataFrame**\n",
        "\n",
        "``` python\n",
        "gdf = sk.to_geodataframe()\n",
        "```\n",
        "\n",
        "This converts the table to a\n",
        "[`GeoDataFrame`](https://geopandas.org/en/stable/docs/reference/api/geopandas.GeoDataFrame.html),\n",
        "enabling spatial analysis of model performance.\n",
        "\n",
        "## Summary of Key Methods\n",
        "\n",
        "The [`SkillTable`](../api/SkillTable.html#modelskill.SkillTable) object\n",
        "provides tools to filter, format, and visualize skill metrics\n",
        "efficiently:\n",
        "\n",
        "-   **`sel()`**: Select specific models or observations.\n",
        "-   **`query()`**: Apply flexible condition-based filtering.\n",
        "-   **`sort_index()`**: Sort the table by index levels.\n",
        "-   **`sort_values()`**: Sort the table by specific metric values.\n",
        "-   **`swaplevel()`**: Swap levels in the MultiIndex for reorganization.\n",
        "-   **`round()`**: Round skill values to improve readability.\n",
        "-   **`plot.line()`**: Generate a line plot for skill metrics.\n",
        "-   **`plot.bar()`**: Visualize metrics as a bar chart.\n",
        "-   **`plot.barh()`**: Create a horizontal bar chart.\n",
        "-   **`plot.grid()`**: Display a colored grid of skill metrics.\n",
        "-   **`style()`**: Apply color-based formatting for easy interpretation.\n",
        "-   **`to_dataframe()`**: Export to `pandas.DataFrame`.\n",
        "-   **`to_geodataframe()`**: Export to `GeoDataFrame` for spatial\n",
        "    analysis.\n",
        "\n",
        "By combining these methods, you can analyze model performance in detail,\n",
        "identify trends, and communicate results effectively."
      ],
      "id": "e9055f55-54a5-4794-a5a9-abaf9aa6ab20"
    }
  ],
  "nbformat": 4,
  "nbformat_minor": 5,
  "metadata": {
    "kernelspec": {
      "name": "python3",
      "display_name": "Python 3 (ipykernel)",
      "language": "python",
      "path": "/home/runner/work/modelskill/modelskill/.venv/share/jupyter/kernels/python3"
    },
    "language_info": {
      "name": "python",
      "codemirror_mode": {
        "name": "ipython",
        "version": "3"
      },
      "file_extension": ".py",
      "mimetype": "text/x-python",
      "nbconvert_exporter": "python",
      "pygments_lexer": "ipython3",
      "version": "3.12.3"
    }
  }
}