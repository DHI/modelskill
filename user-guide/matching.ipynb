{
  "cells": [
    {
      "cell_type": "markdown",
      "metadata": {},
      "source": [
        "# Matching\n",
        "\n",
        "Once observations and model results have been defined, the next step is\n",
        "to match them. This is done using the\n",
        "[`match`](../api/match.html#modelskill.match) function which handles the\n",
        "allignment of the observation and model result data in space and time.\n",
        "Note that if the data is already matched, the\n",
        "[`from_matched`](../api/from_matched.html#modelskill.from_matched)\n",
        "function can be used to create a\n",
        "[`Comparer`](../api/Comparer.html#modelskill.Comparer) directly from the\n",
        "matched data and the matching described here is not needed.\n",
        "\n",
        "> **Important**\n",
        ">\n",
        "> The observation is considered the *truth* and the model result data is\n",
        "> therefore interpolated to the observation data positions.\n",
        "\n",
        "The matching process will be different depending on the geometry of\n",
        "observation and model result:\n",
        "\n",
        "-   Geometries are the *same* (e.g. both are point time series): only\n",
        "    temporal matching is needed\n",
        "-   Geometries are *different* (e.g. observation is a point time series\n",
        "    and model result is a grid): data is first spatially *extracted*\n",
        "    from the model result and *then* matched in time.\n",
        "\n",
        "## Temporal matching\n",
        "\n",
        "Temporal matching is done by interpolating the model result data to the\n",
        "observation data time points; it is carried out after spatial matching\n",
        "when applicable. The interpolation is *linear* in time and done inside\n",
        "the [`match`](../api/match.html#modelskill.match) function.\n",
        "\n",
        "## Matching of time series\n",
        "\n",
        "If observation and model result are of the same geometry, the matching\n",
        "is done *one* observation at a time. Several model results can be\n",
        "matched to the same observation. The result of the matching process is a\n",
        "[`Comparer`](../api/Comparer.html#modelskill.Comparer) object which\n",
        "contains the matched data.\n",
        "\n",
        "In the most simple cases, one observation to one model result, the\n",
        "[`match`](../api/match.html#modelskill.match) function can be used\n",
        "directly, without creating Observation and ModelResult objects first:"
      ],
      "id": "e821d122-096d-4351-9420-5acd82c54392"
    },
    {
      "cell_type": "code",
      "execution_count": 1,
      "metadata": {},
      "outputs": [
        {
          "output_type": "display_data",
          "metadata": {},
          "data": {
            "text/plain": [
              "<Comparer>\n",
              "Quantity: Significant wave height [m]\n",
              "Observation: HKNA_Hm0, n_points=554\n",
              "Model(s):\n",
              "0: HKNA_Hm0_Model"
            ]
          }
        }
      ],
      "source": [
        "import modelskill as ms\n",
        "cmp = ms.match(\"../data/SW/HKNA_Hm0.dfs0\", \"../data/SW/HKNA_Hm0_Model.dfs0\", gtype='point')\n",
        "cmp"
      ],
      "id": "a929987b"
    },
    {
      "cell_type": "markdown",
      "metadata": {},
      "source": [
        "In all other cases, the observations and model results needs to be\n",
        "defined first.\n",
        "\n",
        "## Matching with dfsu or grid model result\n",
        "\n",
        "If the model result is a SpatialField, i.e., either a\n",
        "[`GridModelResult`](../api/GridModelResult.html#modelskill.GridModelResult)\n",
        "or a\n",
        "[`DfsuModelResult`](../api/DfsuModelResult.html#modelskill.DfsuModelResult),\n",
        "and the observation is of lower dimension (e.g. point), then the model\n",
        "result needs to be *extracted* before matching can be done. This can be\n",
        "done “offline” before using ModelSkill, e.g., using\n",
        "[MIKE](https://www.mikepoweredbydhi.com/) tools or [MIKE\n",
        "IO](https://dhi.github.io/mikeio), or as part of the matching process\n",
        "using ModelSkill. We will here focus on the latter.\n",
        "\n",
        "In this situation, *multiple* observations can be matched to the same\n",
        "model result, in which case the\n",
        "[`match`](../api/match.html#modelskill.match) function returns a\n",
        "[`ComparerCollection`](../api/ComparerCollection.html#modelskill.ComparerCollection)\n",
        "instead of a [`Comparer`](../api/Comparer.html#modelskill.Comparer)\n",
        "which is the returned object for single observation matching."
      ],
      "id": "b7199aa6-b4d4-438b-8adc-e3306fcf2e64"
    },
    {
      "cell_type": "code",
      "execution_count": 2,
      "metadata": {},
      "outputs": [
        {
          "output_type": "display_data",
          "metadata": {},
          "data": {
            "text/plain": [
              "<Comparer>\n",
              "Quantity: Significant wave height [m]\n",
              "Observation: HKNA, n_points=120\n",
              "Model(s):\n",
              "0: HKZN_local\n",
              "1: CMEMS"
            ]
          }
        }
      ],
      "source": [
        "o1 = ms.observation(\"../data/SW/HKNA_Hm0.dfs0\", item=0,\n",
        "                    x=4.2420, y=52.6887,\n",
        "                    name=\"HKNA\")\n",
        "mr_dfsu = ms.model_result(\"../data/SW/HKZN_local_2017_DutchCoast.dfsu\", \n",
        "                      item=\"Sign. Wave Height\",\n",
        "                      name=\"HKZN_local\")\n",
        "mr_nc = ms.model_result(\"../data/SW/CMEMS_DutchCoast_2017-10-28.nc\", \n",
        "                      item=\"VHM0\",\n",
        "                      name=\"CMEMS\")\n",
        "cmp = ms.match(o1, [mr_dfsu, mr_nc])\n",
        "cmp"
      ],
      "id": "ada030bf"
    },
    {
      "cell_type": "markdown",
      "metadata": {},
      "source": [
        "In most cases, *several* observations needs to matched with several\n",
        "model results. This can be done by constructing a list of\n",
        "[`Comparer`](../api/Comparer.html#modelskill.Comparer) objects and then\n",
        "combining them into a\n",
        "[`ComparerCollection`](../api/ComparerCollection.html#modelskill.ComparerCollection):"
      ],
      "id": "42f454c2-8e79-4970-aff6-d1a5bba1d79f"
    },
    {
      "cell_type": "code",
      "execution_count": 3,
      "metadata": {},
      "outputs": [
        {
          "output_type": "display_data",
          "metadata": {},
          "data": {
            "text/plain": [
              "<ComparerCollection>\n",
              "Comparers:\n",
              "0: HKNA - Significant wave height [m]\n",
              "1: EPL - Significant wave height [m]"
            ]
          }
        }
      ],
      "source": [
        "o2 = ms.observation(\"../data/SW/eur_Hm0.dfs0\", item=0,\n",
        "                     x=3.2760, y=51.9990,\n",
        "                     name=\"EPL\")\n",
        "                     \n",
        "observations = [o1, o2]\n",
        "cmps = []\n",
        "for o in observations:\n",
        "     cmps.append(ms.match(o, [mr_dfsu, mr_nc]))\n",
        "cc = ms.ComparerCollection(cmps)\n",
        "cc"
      ],
      "id": "7ce14bb4"
    },
    {
      "cell_type": "markdown",
      "metadata": {},
      "source": [
        "Matching\n",
        "[`PointObservation`](../api/PointObservation.html#modelskill.PointObservation)\n",
        "with `SpatialField` model results consists of two steps:\n",
        "\n",
        "1.  Extracting data from the model result at the spatial position of the\n",
        "    observation, which returns a PointModelResult\n",
        "2.  Matching the extracted data with the observation data in time\n",
        "\n",
        "Matching\n",
        "[`TrackObservation`](../api/TrackObservation.html#modelskill.TrackObservation)\n",
        "with `SpatialField` model results is for technical reasons handled in\n",
        "*one* step, i.e., the data is extracted in both space and time.\n",
        "\n",
        "The spatial matching method (selection or interpolation) can be\n",
        "specified using the `spatial_method` argument of the\n",
        "[`match`](../api/match.html#modelskill.match) function. The default\n",
        "method depends on the type of observation and model result as specified\n",
        "in the sections below.\n",
        "\n",
        "### Extracting data from a DfsuModelResult\n",
        "\n",
        "Extracting data for a specific point position from the flexible mesh\n",
        "dfsu files can be done in several ways (specified by the\n",
        "`spatial_method` argument of the\n",
        "[`match`](../api/match.html#modelskill.match) function):\n",
        "\n",
        "-   Selection of the “contained” element\n",
        "-   Selection of the “nearest” element (often the same as the contained\n",
        "    element, but not always)\n",
        "-   Interpolation with “inverse_distance” weighting (IDW) using the five\n",
        "    nearest elements (default)\n",
        "\n",
        "The default (inverse_distance) is not necessarily the best method in all\n",
        "cases. When the extracted position is close to the model boundary,\n",
        "“contained” may be a better choice."
      ],
      "id": "a3c0f6bb-969a-4835-b051-1fa7d54c9140"
    },
    {
      "cell_type": "code",
      "execution_count": 4,
      "metadata": {},
      "outputs": [],
      "source": [
        "cc = ms.match([o1, o2], mr_dfsu, spatial_method='contained')   "
      ],
      "id": "2d6d985f"
    },
    {
      "cell_type": "markdown",
      "metadata": {},
      "source": [
        "> **Note**\n",
        ">\n",
        "> -   Extraction of *track* data does not currently support the\n",
        ">     “contained” method.\n",
        "> -   Extraction of point data from 3D dfsu files is not yet fully\n",
        ">     supported. It is recommended to extract the data “offline” prior\n",
        ">     to using ModelSkill.\n",
        "\n",
        "### Extracting data from a GridModelResult\n",
        "\n",
        "Extracting data from a GridModelResult is done through xarray’s\n",
        "`interp()` function. The `spatial_method` argument of the\n",
        "[`match`](../api/match.html#modelskill.match) function is passed on to\n",
        "the `interp()` function as the `method` argument. The default method is\n",
        "“linear” which is the recommended method for most cases. Close to land\n",
        "where the grid model result data is often missing, “nearest” may be a\n",
        "better choice."
      ],
      "id": "dfec3a50-29ff-403a-a464-6292ca39a640"
    },
    {
      "cell_type": "code",
      "execution_count": 5,
      "metadata": {},
      "outputs": [],
      "source": [
        "cc = ms.match([o1, o2], mr_nc, spatial_method='nearest')   "
      ],
      "id": "b3aa19e8"
    },
    {
      "cell_type": "markdown",
      "metadata": {},
      "source": [
        "## Event-based matching and handling of gaps\n",
        "\n",
        "If the model result data contains gaps either because only events are\n",
        "stored or because of missing data, the `max_model_gap` argument of the\n",
        "[`match`](../api/match.html#modelskill.match) function can be used to\n",
        "specify the maximum allowed gap (in seconds) in the model result data.\n",
        "This will avoid interpolating model data over long gaps in the model\n",
        "result data!\n",
        "\n",
        "## Multiple model results with different temporal coverage\n",
        "\n",
        "If the model results have different temporal coverage, the\n",
        "[`match`](../api/match.html#modelskill.match) function will only match\n",
        "the overlapping time period to ensure that the model results are\n",
        "comparable. The [`Comparer`](../api/Comparer.html#modelskill.Comparer)\n",
        "object will contain the matched data for the overlapping period only."
      ],
      "id": "c5acd14c-c85a-43de-9fd6-12fe8e146259"
    }
  ],
  "nbformat": 4,
  "nbformat_minor": 5,
  "metadata": {
    "kernelspec": {
      "name": "python3",
      "display_name": "Python 3 (ipykernel)",
      "language": "python",
      "path": "/home/runner/work/modelskill/modelskill/.venv/share/jupyter/kernels/python3"
    },
    "language_info": {
      "name": "python",
      "codemirror_mode": {
        "name": "ipython",
        "version": "3"
      },
      "file_extension": ".py",
      "mimetype": "text/x-python",
      "nbconvert_exporter": "python",
      "pygments_lexer": "ipython3",
      "version": "3.12.3"
    }
  }
}