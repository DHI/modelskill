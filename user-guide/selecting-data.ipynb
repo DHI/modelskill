{
  "cells": [
    {
      "cell_type": "markdown",
      "metadata": {},
      "source": [
        "# Selecting data\n",
        "\n",
        "The primary data filtering method of ModelSkill is the `sel()` method\n",
        "which is accesible on most ModelSkill data structures. The `sel()`\n",
        "method is a wrapper around\n",
        "[`xarray.Dataset.sel`](https://xarray.pydata.org/en/stable/generated/xarray.Dataset.sel.html#xarray.Dataset.sel)\n",
        "and can be used to select data based on time, location and/or variable.\n",
        "The `sel()` method returns a new data structure of the same type with\n",
        "the selected data.\n",
        "\n",
        "## TimeSeries data\n",
        "\n",
        "Point and track timeseries data of both observation and model result\n",
        "kinds are stored in\n",
        "[`TimeSeries`](../api/TimeSeries.html#modelskill.TimeSeries) objects\n",
        "which uses\n",
        "[`xarray.Dataset`](https://xarray.pydata.org/en/stable/generated/xarray.Dataset.html#xarray.Dataset)\n",
        "as data container. The\n",
        "[`sel()`](../api/TimeSeries.html#modelskill.TimeSeries.sel) method can\n",
        "be used to select data based on time and returns a new\n",
        "[`TimeSeries`](../api/TimeSeries.html#modelskill.TimeSeries) object with\n",
        "the selected data."
      ],
      "id": "78ab92da-6513-4392-8ff1-84f6682efa0c"
    },
    {
      "cell_type": "code",
      "execution_count": 1,
      "metadata": {},
      "outputs": [
        {
          "output_type": "display_data",
          "metadata": {},
          "data": {
            "text/plain": [
              "<PointObservation>: obs\n",
              "Location: nan, nan\n",
              "Time: 2018-01-01 00:00:00 - 2018-02-01 23:00:00\n",
              "Quantity:  []"
            ]
          }
        }
      ],
      "source": [
        "import modelskill as ms\n",
        "o = ms.observation(\"../data/obs.nc\", item=\"waterlevel\", gtype='point')\n",
        "o_1month = o.sel(time=slice(\"2018-01-01\", \"2018-02-01\"))\n",
        "o_1month"
      ],
      "id": "98cc71fa"
    },
    {
      "cell_type": "markdown",
      "metadata": {},
      "source": [
        "------------------------------------------------------------------------\n",
        "\n",
        "## Comparer objects\n",
        "\n",
        "The [`Comparer`](../api/Comparer.html#modelskill.Comparer) and\n",
        "[`ComparerCollection`](../api/ComparerCollection.html#modelskill.ComparerCollection)\n",
        "objects hold matched data from observations and model results, enabling\n",
        "you to evaluate model performance effectively. These objects provide\n",
        "intuitive methods to filter and query data based on time, model,\n",
        "quantity, or spatial criteria.\n",
        "\n",
        "The primary methods for filtering the data are:\n",
        "\n",
        "-   **`sel()`**: Use for structured selections based on time, model, or\n",
        "    spatial boundaries.\n",
        "-   **`where()`**: Use for conditional filtering based on logical\n",
        "    criteria.\n",
        "-   **`query()`**: Use for flexible, expression-based filtering in a\n",
        "    pandas-like style."
      ],
      "id": "113555f6-5f10-4616-8d40-e202f5b6562d"
    },
    {
      "cell_type": "code",
      "execution_count": 2,
      "metadata": {},
      "outputs": [],
      "source": [
        "o = ms.observation(\"../data/SW/HKNA_Hm0.dfs0\", item=0,\n",
        "                    x=4.2420, y=52.6887,\n",
        "                    name=\"HKNA\")\n",
        "m1 = ms.model_result(\"../data/SW/HKZN_local_2017_DutchCoast.dfsu\", \n",
        "                      item=\"Sign. Wave Height\",\n",
        "                      name=\"m1\")\n",
        "m2 = ms.model_result(\"../data/SW/CMEMS_DutchCoast_2017-10-28.nc\", \n",
        "                      item=\"VHM0\",\n",
        "                      name=\"m2\")"
      ],
      "id": "2b14bcdb"
    },
    {
      "cell_type": "code",
      "execution_count": 3,
      "metadata": {},
      "outputs": [],
      "source": [
        "cmp = ms.match(o, [m1, m2])"
      ],
      "id": "ab667c63"
    },
    {
      "cell_type": "markdown",
      "metadata": {},
      "source": [
        "### `sel()` method\n",
        "\n",
        "The [`sel`](../api/Comparer.html#modelskill.Comparer.sel) method allows\n",
        "you to select data based on specific criteria such as time, model name,\n",
        "or spatial area. It returns a new `Comparer` object with the selected\n",
        "data. This method is highly versatile and supports multiple selection\n",
        "parameters, which can be combined.\n",
        "\n",
        "**Syntax:** `Comparer.sel(model=None, time=None, area=None)`\n",
        "\n",
        "| Parameter | Type | Description | Default |\n",
        "|----------|-------------------|-------------------------------------|-------|\n",
        "| `model` | str, int, or list | Model name or index. Selects specific models. | None |\n",
        "| `time` | str, datetime, or slice | Specific time or range for selection. | None |\n",
        "| `area` | list of float or Polygon | Bounding box \\[x0, y0, x1, y1\\] or a polygon area filter. | None |\n",
        "\n",
        "**Example 1: Selecting data by time**"
      ],
      "id": "57922055-5b96-4448-8bb5-39a790043b25"
    },
    {
      "cell_type": "code",
      "execution_count": 4,
      "metadata": {},
      "outputs": [
        {
          "output_type": "display_data",
          "metadata": {},
          "data": {
            "text/plain": [
              "<Comparer>\n",
              "Quantity: Significant wave height [m]\n",
              "Observation: HKNA, n_points=66\n",
              "Model(s):\n",
              "0: m1\n",
              "1: m2"
            ]
          }
        }
      ],
      "source": [
        "cmp_12hrs = cmp.sel(time=slice('2017-10-28', '2017-10-28 12:00'))\n",
        "cmp_12hrs"
      ],
      "id": "79336505"
    },
    {
      "cell_type": "markdown",
      "metadata": {},
      "source": [
        "This selects data within the specified time range.\n",
        "\n",
        "**Example 2: Selecting a specific model**"
      ],
      "id": "18e17ba3-f50b-4ea1-8c53-200b20a94a55"
    },
    {
      "cell_type": "code",
      "execution_count": 5,
      "metadata": {},
      "outputs": [
        {
          "output_type": "display_data",
          "metadata": {},
          "data": {
            "text/plain": [
              "<Comparer>\n",
              "Quantity: Significant wave height [m]\n",
              "Observation: HKNA, n_points=120\n",
              "Model(s):\n",
              "0: m1"
            ]
          }
        }
      ],
      "source": [
        "cmp_m1 = cmp.sel(model='m1')\n",
        "cmp_m1"
      ],
      "id": "9b0e49ae"
    },
    {
      "cell_type": "markdown",
      "metadata": {},
      "source": [
        "This filters the data to include only the model named “m1”.\n",
        "\n",
        "**Example 3: Selecting a spatial area**"
      ],
      "id": "b71058e6-4c2b-4c3a-ae05-04d7bcb0dc4f"
    },
    {
      "cell_type": "code",
      "execution_count": 6,
      "metadata": {},
      "outputs": [],
      "source": [
        "cmp_area = cmp.sel(area=[4.0, 52.5, 5.0, 53.0])"
      ],
      "id": "911c5843"
    },
    {
      "cell_type": "markdown",
      "metadata": {},
      "source": [
        "This filters the data within the bounding box defined by\n",
        "`[x0, y0, x1, y1]`.\n",
        "\n",
        "### `where()` method\n",
        "\n",
        "The [`where`](../api/Comparer.html#modelskill.Comparer.where) method is\n",
        "used to filter data conditionally. It works similarly to `xarray`’s\n",
        "`where` method and returns a new `Comparer` object with values\n",
        "satisfying a given condition. Other values will be masked (set to\n",
        "`NaN`).\n",
        "\n",
        "**Syntax:** `Comparer.where(cond)`\n",
        "\n",
        "| Parameter | Type | Description |\n",
        "|----------|-------------------------|--------------------------------------|\n",
        "| `cond` | bool, np.ndarray, or xr.DataArray | Condition to filter values (True or False). |\n",
        "\n",
        "**Example 4: Filtering data conditionally**"
      ],
      "id": "1b2af3bf-adbe-4398-8557-acf0f7743c2d"
    },
    {
      "cell_type": "code",
      "execution_count": 7,
      "metadata": {},
      "outputs": [
        {
          "output_type": "display_data",
          "metadata": {},
          "data": {
            "text/plain": [
              "<Comparer>\n",
              "Quantity: Significant wave height [m]\n",
              "Observation: HKNA, n_points=52\n",
              "Model(s):\n",
              "0: m1\n",
              "1: m2"
            ]
          }
        }
      ],
      "source": [
        "cmp.where(cmp.data.Observation > 3)"
      ],
      "id": "d6fd8c47"
    },
    {
      "cell_type": "markdown",
      "metadata": {},
      "source": [
        "This filters out any rows where the observation values are not greater\n",
        "than 3.\n",
        "\n",
        "**Example 5: Multiple conditions**"
      ],
      "id": "96cdb4ca-d716-46fd-bc5f-827c06811344"
    },
    {
      "cell_type": "code",
      "execution_count": 8,
      "metadata": {},
      "outputs": [
        {
          "output_type": "display_data",
          "metadata": {},
          "data": {
            "text/plain": [
              "<Comparer>\n",
              "Quantity: Significant wave height [m]\n",
              "Observation: HKNA, n_points=8\n",
              "Model(s):\n",
              "0: m1\n",
              "1: m2"
            ]
          }
        }
      ],
      "source": [
        "cmp.where((cmp.data.m1 < 2.9) & (cmp.data.Observation > 3))"
      ],
      "id": "b3d29ab6"
    },
    {
      "cell_type": "markdown",
      "metadata": {},
      "source": [
        "This filters the data to include rows where `m1 < 2.9` and\n",
        "`Observation > 3.0`.\n",
        "\n",
        "### `query()` method\n",
        "\n",
        "The [`query`](../api/Comparer.html#modelskill.Comparer.query) method\n",
        "uses a\n",
        "[`pandas.DataFrame.query`](https://pandas.pydata.org/docs/reference/api/pandas.DataFrame.query.html#pandas.DataFrame.query)-style\n",
        "syntax to filter data based on string-based expressions. It provides a\n",
        "flexible way to apply complex filters using column names and logical\n",
        "operators.\n",
        "\n",
        "**Syntax:** `Comparer.query(query)`\n",
        "\n",
        "| Parameter | Type | Description                      |\n",
        "|-----------|------|----------------------------------|\n",
        "| `query`   | str  | Query string for filtering data. |\n",
        "\n",
        "**Example 6: Querying data**"
      ],
      "id": "cc94b43a-788e-4f24-ad4b-70b2472ed8a4"
    },
    {
      "cell_type": "code",
      "execution_count": 9,
      "metadata": {},
      "outputs": [
        {
          "output_type": "display_data",
          "metadata": {},
          "data": {
            "text/plain": [
              "<Comparer>\n",
              "Quantity: Significant wave height [m]\n",
              "Observation: HKNA, n_points=8\n",
              "Model(s):\n",
              "0: m1\n",
              "1: m2"
            ]
          }
        }
      ],
      "source": [
        "cmp.query(\"Observation > 3.0 and m1 < 2.9\")"
      ],
      "id": "b10e23f4"
    },
    {
      "cell_type": "markdown",
      "metadata": {},
      "source": [
        "This filters the data where `Observation` is greater than 3.0 and `m1`\n",
        "is less than 2.9.\n",
        "\n",
        "------------------------------------------------------------------------\n",
        "\n",
        "## Skill objects\n",
        "\n",
        "The [`skill()`](../api/Comparer.html#modelskill.Comparer.skill) and\n",
        "[`mean_skill()`](../api/ComparerCollection.html#modelskill.ComparerCollection.mean_skill)\n",
        "methods return a\n",
        "[`SkillTable`](../api/SkillTable.html#modelskill.SkillTable) object with\n",
        "skill scores from comparing observation and model result data using\n",
        "different metrics (e.g. root mean square error). It returns a\n",
        "[`SkillTable`](../api/SkillTable.html#modelskill.SkillTable) object,\n",
        "which wraps a\n",
        "[`pandas.DataFrame`](https://pandas.pydata.org/docs/reference/api/pandas.DataFrame.html#pandas.DataFrame)\n",
        "and organizes the skill scores for further filtering, visualization, or\n",
        "analysis.\n",
        "\n",
        "The resulting\n",
        "[`SkillTable`](../api/SkillTable.html#modelskill.SkillTable) object\n",
        "provides several methods to facilitate filtering and formatting: -\n",
        "**`sel()`**: Select specific models or observations. - **`query()`**:\n",
        "Apply flexible conditions with pandas-like queries."
      ],
      "id": "17f2f30e-e7a6-4d83-ac2d-711262a983c8"
    },
    {
      "cell_type": "code",
      "execution_count": 10,
      "metadata": {},
      "outputs": [
        {
          "output_type": "display_data",
          "metadata": {},
          "data": {
            "text/html": [
              "\n",
              "</div>"
            ]
          }
        }
      ],
      "source": [
        "sk = cmp.skill(metrics=[\"rmse\", \"mae\", \"si\"])\n",
        "sk"
      ],
      "id": "ea1b8bdd"
    },
    {
      "cell_type": "markdown",
      "metadata": {},
      "source": [
        "**Example 7: Select model**"
      ],
      "id": "00de3f01-6224-4e80-9766-9b03c5f2d4d7"
    },
    {
      "cell_type": "code",
      "execution_count": 11,
      "metadata": {},
      "outputs": [
        {
          "output_type": "display_data",
          "metadata": {},
          "data": {
            "text/html": [
              "\n",
              "</div>"
            ]
          }
        }
      ],
      "source": [
        "sk.sel(model='m1')"
      ],
      "id": "00b4167e"
    },
    {
      "cell_type": "markdown",
      "metadata": {},
      "source": [
        "Here, `sk` contains skill scores for all models, and `sk_m1` filters the\n",
        "results to include only model “m1”. Observations can be selected in the\n",
        "same way.\n",
        "\n",
        "**Example 8: Querying skill scores**"
      ],
      "id": "3ccfd6cc-76c4-4761-a39a-918b52d13f0e"
    },
    {
      "cell_type": "code",
      "execution_count": 12,
      "metadata": {},
      "outputs": [
        {
          "output_type": "display_data",
          "metadata": {},
          "data": {
            "text/html": [
              "\n",
              "</div>"
            ]
          }
        }
      ],
      "source": [
        "sk_high_rmse = sk.query(\"rmse > 0.3\")\n",
        "sk_high_rmse"
      ],
      "id": "3b400815"
    },
    {
      "cell_type": "markdown",
      "metadata": {},
      "source": [
        "This filters the `SkillTable` to include only rows where the root mean\n",
        "square error (RMSE) exceeds 0.3.\n",
        "\n",
        "**Example 9: Accessing and visualizing specific metrics**"
      ],
      "id": "7c830470-2091-4a08-8c2e-9e2f7d5b432d"
    },
    {
      "cell_type": "code",
      "execution_count": 13,
      "metadata": {},
      "outputs": [
        {
          "output_type": "display_data",
          "metadata": {},
          "data": {
            "text/html": [
              "\n",
              "</div>"
            ]
          }
        }
      ],
      "source": [
        "sk_rmse = sk.rmse\n",
        "sk_rmse"
      ],
      "id": "b053b8d2"
    },
    {
      "cell_type": "code",
      "execution_count": 14,
      "metadata": {},
      "outputs": [
        {
          "output_type": "display_data",
          "metadata": {},
          "data": {
            "image/png": "[encoded data removed]"
          }
        }
      ],
      "source": [
        "sk_rmse.plot.bar(figsize=(5,3))"
      ],
      "id": "fbb9d09c"
    },
    {
      "cell_type": "markdown",
      "metadata": {},
      "source": [
        "The `rmse` attribute directly accesses the RMSE column from the\n",
        "`SkillTable`, which can then be plotted or analyzed further."
      ],
      "id": "ebba801c-e62a-4799-a3be-85b19dbb61ec"
    }
  ],
  "nbformat": 4,
  "nbformat_minor": 5,
  "metadata": {
    "kernelspec": {
      "name": "python3",
      "display_name": "Python 3 (ipykernel)",
      "language": "python",
      "path": "/opt/hostedtoolcache/Python/3.11.12/x64/share/jupyter/kernels/python3"
    },
    "language_info": {
      "name": "python",
      "codemirror_mode": {
        "name": "ipython",
        "version": "3"
      },
      "file_extension": ".py",
      "mimetype": "text/x-python",
      "nbconvert_exporter": "python",
      "pygments_lexer": "ipython3",
      "version": "3.11.12"
    }
  }
}