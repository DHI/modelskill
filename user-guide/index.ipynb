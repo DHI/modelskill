{
  "cells": [
    {
      "cell_type": "markdown",
      "metadata": {},
      "source": [
        "# \n",
        "\n",
        "# User Guide\n",
        "\n",
        "ModelSkill compares model results with observations. The workflow can be\n",
        "split in two phases:\n",
        "\n",
        "1.  [Matching](matching.qmd) - making sure that observations and model\n",
        "    results are in the same space and time\n",
        "2.  Analysis - [plots](plotting.qmd) and [statistics](statistics.qmd) of\n",
        "    the matched data\n",
        "\n",
        "If the observations and model results are already matched (i.e. are\n",
        "stored in the same data source), the `from_matched()` function can be\n",
        "used to go directly to the analysis phase. If not, the `match()`\n",
        "function can be used to match the observations and model results in\n",
        "space and time."
      ],
      "id": "8ad45dd2-9e38-4877-b519-dcb10fac4aa4"
    }
  ],
  "nbformat": 4,
  "nbformat_minor": 5,
  "metadata": {
    "kernelspec": {
      "display_name": "Python 3",
      "language": "python",
      "name": "python3"
    }
  }
}