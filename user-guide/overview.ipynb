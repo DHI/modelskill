{
  "cells": [
    {
      "cell_type": "markdown",
      "metadata": {},
      "source": [
        "# Overview\n",
        "\n",
        "ModelSkill compares model results with observations. The workflow can be\n",
        "split in two phases:\n",
        "\n",
        "1.  **Matching** - making sure that observations and model results are\n",
        "    in the same space and time\n",
        "2.  **Analysis** - plots and statistics of the matched data\n",
        "\n",
        "If the observations and model results are already matched (i.e. are\n",
        "stored in the same data source), the\n",
        "[`from_matched()`](../api/from_matched.html#modelskill.from_matched)\n",
        "function can be used to go directly to the analysis phase. If not, the\n",
        "[`match()`](../api/match.html#modelskill.match) function can be used to\n",
        "match the observations and model results in space and time.\n",
        "\n",
        "## Matching\n",
        "\n",
        "If the observations and model results are not in the same data source\n",
        "(e.g. dfs0 file), they will need to be defined and then matched in space\n",
        "and time with the `match()` function. In simple cases, observations and\n",
        "model results can be defined directly in the `match()` function:"
      ],
      "id": "aa32c0a1-80aa-4de9-a4dc-be398af86278"
    },
    {
      "cell_type": "code",
      "execution_count": 1,
      "metadata": {},
      "outputs": [],
      "source": [
        "import modelskill as ms\n",
        "cmp = ms.match(\"../data/obs.dfs0\", \"../data/model.dfs0\",\n",
        "               obs_item=\"obs_WL\", mod_item=\"WL\",\n",
        "               gtype='point')"
      ],
      "id": "8c00abc4"
    },
    {
      "cell_type": "markdown",
      "metadata": {},
      "source": [
        "But in most cases, the observations and model results will need to be\n",
        "defined separately first.\n",
        "\n",
        "### Define observations\n",
        "\n",
        "The observations can be defined as either a\n",
        "[`PointObservation`](../api/PointObservation.html#modelskill.PointObservation)\n",
        "or a\n",
        "[`TrackObservation`](../api/TrackObservation.html#modelskill.TrackObservation)\n",
        "(a moving point)."
      ],
      "id": "935c94b4-cedb-40e2-a4e9-902f1d397ec2"
    },
    {
      "cell_type": "code",
      "execution_count": 2,
      "metadata": {},
      "outputs": [],
      "source": [
        "o1 = ms.PointObservation(\"../data/obs.dfs0\", item=\"obs_WL\",x=366844.15, y=6154291.6)"
      ],
      "id": "6d6e4834"
    },
    {
      "cell_type": "markdown",
      "metadata": {},
      "source": [
        "The `item` needs to be specified as either the item number or the item\n",
        "name if the input file contains multiple items. Several other parameters\n",
        "can be specified, such as the name of the observation, the x- and\n",
        "y-position, and the quantity type and unit of the observation.\n",
        "\n",
        "### Define model results\n",
        "\n",
        "A model result will either be a simple point/track like the\n",
        "observations, or spatial field (e.g. 2d dfsu file) from which the model\n",
        "results will be *extracted* at the observation positions. The following\n",
        "types are available:\n",
        "\n",
        "-   [`PointModelResult`](../api/PointModelResult.html#modelskill.PointModelResult) -\n",
        "    a point result from a dfs0/nc file or a DataFrame\n",
        "-   [`TrackModelResult`](../api/TrackModelResult.html#modelskill.TrackModelResult) -\n",
        "    a track result from a dfs0/nc file or a DataFrame\n",
        "-   [`GridModelResult`](../api/GridModelResult.html#modelskill.GridModelResult) -\n",
        "    a spatial field from a dfs2/nc file or a Xarray Dataset\n",
        "-   [`DfsuModelResult`](../api/DfsuModelResult.html#modelskill.DfsuModelResult) -\n",
        "    a spatial field from a dfsu file"
      ],
      "id": "31d0b034-8fa1-40af-ab64-64fb967b68b5"
    },
    {
      "cell_type": "code",
      "execution_count": 3,
      "metadata": {},
      "outputs": [],
      "source": [
        "mr1 = ms.PointModelResult(\"../data/model.dfs0\", item=\"WL\")"
      ],
      "id": "dd969785"
    },
    {
      "cell_type": "markdown",
      "metadata": {},
      "source": [
        "### Match observations and model results\n",
        "\n",
        "The `match()` function will interpolate the model results to the time\n",
        "(and space) of the observations and return a collection of `Comparer`\n",
        "objects that can be used for analysis."
      ],
      "id": "917f1f7b-6a5c-4376-9df8-533cb28f3bfa"
    },
    {
      "cell_type": "code",
      "execution_count": 4,
      "metadata": {},
      "outputs": [
        {
          "output_type": "display_data",
          "metadata": {},
          "data": {
            "text/plain": [
              "<Comparer>\n",
              "Quantity: Water Level [m]\n",
              "Observation: obs, n_points=167\n",
              "Model(s):\n",
              "0: model"
            ]
          }
        }
      ],
      "source": [
        "cc = ms.match(o1, mr1)\n",
        "cc"
      ],
      "id": "04cc18c3"
    },
    {
      "cell_type": "markdown",
      "metadata": {},
      "source": [
        "## Analysis\n",
        "\n",
        "Once the observations and model results are matched, the `Comparer`\n",
        "object can be used for analysis and plotting."
      ],
      "id": "e68b6fc5-6401-4233-8506-8b698fe9abce"
    }
  ],
  "nbformat": 4,
  "nbformat_minor": 5,
  "metadata": {
    "kernelspec": {
      "name": "python3",
      "display_name": "Python 3 (ipykernel)",
      "language": "python",
      "path": "/home/runner/work/modelskill/modelskill/.venv/share/jupyter/kernels/python3"
    },
    "language_info": {
      "name": "python",
      "codemirror_mode": {
        "name": "ipython",
        "version": "3"
      },
      "file_extension": ".py",
      "mimetype": "text/x-python",
      "nbconvert_exporter": "python",
      "pygments_lexer": "ipython3",
      "version": "3.12.3"
    }
  }
}