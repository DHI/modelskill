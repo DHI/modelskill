{
  "cells": [
    {
      "cell_type": "markdown",
      "metadata": {},
      "source": [
        "# Is my model better than predicting the mean?\n",
        "\n",
        "It is easy to be convinced that a model is good if it has a low error.\n",
        "\n",
        "But it is always a good idea to compare your model to a baseline, to see\n",
        "if it is actually better than just predicting the mean.\n",
        "\n",
        "This can be done easily in `modelskill` thanks to the `DummyModelResult`\n",
        "class."
      ],
      "id": "c7826414-22f7-4ca5-b5af-f853f0e7271d"
    },
    {
      "cell_type": "code",
      "execution_count": 1,
      "metadata": {},
      "outputs": [
        {
          "output_type": "display_data",
          "metadata": {},
          "data": {
            "text/plain": [
              "<DfsuModelResult>: Oresund2D\n",
              "Time: 2018-03-04 00:00:00 - 2018-03-10 22:40:00\n",
              "Quantity: Surface Elevation [m]"
            ]
          }
        }
      ],
      "source": [
        "import modelskill as ms\n",
        "\n",
        "fn = '../data/Oresund2D.dfsu'\n",
        "mr = ms.model_result(fn, item='Surface elevation')\n",
        "mr"
      ],
      "id": "6873c526"
    },
    {
      "cell_type": "code",
      "execution_count": 2,
      "metadata": {},
      "outputs": [
        {
          "output_type": "display_data",
          "metadata": {},
          "data": {
            "text/plain": [
              "<PointObservation>: smhi_2095_klagshamn\n",
              "Location: 366844.15, 6154291.6\n",
              "Time: 2015-01-01 01:00:00 - 2020-09-28 00:00:00\n",
              "Quantity: Water Level [m]"
            ]
          }
        }
      ],
      "source": [
        "fn = '../data/smhi_2095_klagshamn.dfs0'\n",
        "obs = ms.PointObservation(fn, x=366844.15, y=6154291.6, item=0)\n",
        "obs"
      ],
      "id": "cc69bc15"
    },
    {
      "cell_type": "code",
      "execution_count": 3,
      "metadata": {},
      "outputs": [
        {
          "output_type": "display_data",
          "metadata": {},
          "data": {
            "text/plain": [
              "DummyModelResult(name='dummy', data=0.0, strategy='constant')"
            ]
          }
        }
      ],
      "source": [
        "dmr = ms.DummyModelResult(data=0.0)\n",
        "dmr"
      ],
      "id": "a62487cd"
    },
    {
      "cell_type": "code",
      "execution_count": 4,
      "metadata": {},
      "outputs": [
        {
          "output_type": "display_data",
          "metadata": {},
          "data": {
            "text/html": [
              "\n",
              "</div>"
            ]
          }
        }
      ],
      "source": [
        "cmp = ms.match(obs=obs, mod=[mr, dmr]).remove_bias()\n",
        "cmp.skill().round(3)"
      ],
      "id": "0421ce31"
    },
    {
      "cell_type": "code",
      "execution_count": 5,
      "metadata": {},
      "outputs": [
        {
          "output_type": "display_data",
          "metadata": {},
          "data": {
            "image/png": "[encoded data removed]"
          }
        }
      ],
      "source": [
        "cmp.skill().rmse.plot.barh(title=\"Better than predicting 0.0\");"
      ],
      "id": "fecd4316"
    },
    {
      "cell_type": "markdown",
      "metadata": {},
      "source": [
        "Above we created a DummyModelResult which always predicts 0.0.\n",
        "\n",
        "But we can be even more lazy and just use the `DummyModelResult` with\n",
        "the `mean` strategy, which will predict the mean of the observed values."
      ],
      "id": "44f1cb23-de52-4e9f-b85a-942bf9b78a3e"
    },
    {
      "cell_type": "code",
      "execution_count": 6,
      "metadata": {},
      "outputs": [
        {
          "output_type": "display_data",
          "metadata": {},
          "data": {
            "text/plain": [
              "DummyModelResult(name='dummy', data=None, strategy='mean')"
            ]
          }
        }
      ],
      "source": [
        "dmr2 = ms.DummyModelResult(strategy='mean')\n",
        "dmr2"
      ],
      "id": "f3d42b4a"
    },
    {
      "cell_type": "code",
      "execution_count": 7,
      "metadata": {},
      "outputs": [
        {
          "output_type": "display_data",
          "metadata": {},
          "data": {
            "text/html": [
              "\n",
              "</div>"
            ]
          }
        }
      ],
      "source": [
        "cmp2 = ms.match(obs=obs, mod=[mr, dmr2]).remove_bias()\n",
        "cmp2.skill().round(3)"
      ],
      "id": "98ab009c"
    }
  ],
  "nbformat": 4,
  "nbformat_minor": 5,
  "metadata": {
    "kernelspec": {
      "name": "python3",
      "display_name": "Python 3 (ipykernel)",
      "language": "python",
      "path": "/opt/hostedtoolcache/Python/3.11.11/x64/share/jupyter/kernels/python3"
    },
    "language_info": {
      "name": "python",
      "codemirror_mode": {
        "name": "ipython",
        "version": "3"
      },
      "file_extension": ".py",
      "mimetype": "text/x-python",
      "nbconvert_exporter": "python",
      "pygments_lexer": "ipython3",
      "version": "3.11.11"
    }
  }
}