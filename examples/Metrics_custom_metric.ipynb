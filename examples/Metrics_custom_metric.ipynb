{
  "cells": [
    {
      "cell_type": "markdown",
      "metadata": {},
      "source": [
        "# Custom Metrics\n",
        "\n",
        "ModelSkill comes with many metrics to choose from, but you can also\n",
        "define your own."
      ],
      "id": "6337467b-4338-4bf9-8a29-1c70c5342146"
    },
    {
      "cell_type": "code",
      "execution_count": 1,
      "metadata": {},
      "outputs": [],
      "source": [
        "import numpy as np\n",
        "import modelskill as ms"
      ],
      "id": "be9762b8"
    },
    {
      "cell_type": "code",
      "execution_count": 2,
      "metadata": {},
      "outputs": [
        {
          "output_type": "display_data",
          "metadata": {},
          "data": {
            "text/plain": [
              "<ComparerCollection>\n",
              "Comparers:\n",
              "0: HKNA - Significant wave height [m]\n",
              "1: EPL - Significant wave height [m]\n",
              "2: c2 - Significant wave height [m]"
            ]
          }
        }
      ],
      "source": [
        "fn = '../data/SW/HKZN_local_2017_DutchCoast.dfsu'\n",
        "mr = ms.model_result(fn, name='HKZN_local', item=0)\n",
        "o1 = ms.PointObservation('../data/SW/HKNA_Hm0.dfs0', item=0, x=4.2420, y=52.6887, name=\"HKNA\")\n",
        "o2 = ms.PointObservation(\"../data/SW/eur_Hm0.dfs0\", item=0, x=3.2760, y=51.9990, name=\"EPL\")\n",
        "o3 = ms.TrackObservation(\"../data/SW/Alti_c2_Dutch.dfs0\", item=3, name=\"c2\")\n",
        "cc = ms.match([o1, o2, o3], mr)\n",
        "cc"
      ],
      "id": "d297ad63"
    },
    {
      "cell_type": "markdown",
      "metadata": {},
      "source": [
        "Standard set of metrics"
      ],
      "id": "7e2a977c-a5b2-40fa-a98d-b79bff999cc4"
    },
    {
      "cell_type": "code",
      "execution_count": 3,
      "metadata": {},
      "outputs": [
        {
          "output_type": "display_data",
          "metadata": {},
          "data": {
            "text/html": [
              "\n",
              "</div>"
            ]
          }
        }
      ],
      "source": [
        "cc.skill()"
      ],
      "id": "5b30bca2"
    },
    {
      "cell_type": "markdown",
      "metadata": {},
      "source": [
        "Some metrics has parameters, which require a bit special treatment."
      ],
      "id": "8096eb11-cd60-4c65-9039-d69de684e9bb"
    },
    {
      "cell_type": "code",
      "execution_count": 4,
      "metadata": {},
      "outputs": [
        {
          "output_type": "display_data",
          "metadata": {},
          "data": {
            "text/html": [
              "\n",
              "</div>"
            ]
          }
        }
      ],
      "source": [
        "from modelskill.metrics import hit_ratio\n",
        "\n",
        "def hit_ratio_05_pct(obs, model):\n",
        "    return hit_ratio(obs, model, 0.5) * 100\n",
        "\n",
        "def hit_ratio_01_pct(obs, model):\n",
        "    return hit_ratio(obs, model, 0.1) * 100\n",
        "\n",
        "\n",
        "cc.skill(metrics=[hit_ratio_05_pct, hit_ratio_01_pct])"
      ],
      "id": "cd4e1f92"
    },
    {
      "cell_type": "markdown",
      "metadata": {},
      "source": [
        "And you are always free to specify your own special metric or import\n",
        "metrics from other libraries, e.g. scikit-learn."
      ],
      "id": "8ff16ecc-00f5-4648-98b5-a194a53b2586"
    },
    {
      "cell_type": "code",
      "execution_count": 5,
      "metadata": {},
      "outputs": [
        {
          "output_type": "display_data",
          "metadata": {},
          "data": {
            "text/html": [
              "\n",
              "</div>"
            ]
          }
        }
      ],
      "source": [
        "def my_special_metric_with_long_descriptive_name(obs, model):\n",
        "\n",
        "    res = obs - model\n",
        "\n",
        "    res_clipped = np.clip(res,0,np.inf)\n",
        "\n",
        "    return np.mean(np.abs(res_clipped))\n",
        "\n",
        "# short alias to avoid long column names in output\n",
        "def mcae(obs, model): return my_special_metric_with_long_descriptive_name(obs, model)\n",
        "\n",
        "cc.skill(metrics=mcae)"
      ],
      "id": "06920acf"
    }
  ],
  "nbformat": 4,
  "nbformat_minor": 5,
  "metadata": {
    "kernelspec": {
      "name": "python3",
      "display_name": "Python 3 (ipykernel)",
      "language": "python",
      "path": "/opt/hostedtoolcache/Python/3.11.11/x64/share/jupyter/kernels/python3"
    },
    "language_info": {
      "name": "python",
      "codemirror_mode": {
        "name": "ipython",
        "version": "3"
      },
      "file_extension": ".py",
      "mimetype": "text/x-python",
      "nbconvert_exporter": "python",
      "pygments_lexer": "ipython3",
      "version": "3.11.11"
    }
  }
}