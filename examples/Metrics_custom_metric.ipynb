{
  "cells": [
    {
      "cell_type": "markdown",
      "metadata": {},
      "source": [
        "# Custom Metrics\n",
        "\n",
        "ModelSkill comes with many metrics to choose from, but you can also\n",
        "define your own."
      ],
      "id": "7d02a78d-e21d-47c5-a6fe-d2697c3c1ef0"
    },
    {
      "cell_type": "code",
      "execution_count": 1,
      "metadata": {},
      "outputs": [],
      "source": [
        "import numpy as np\n",
        "import modelskill as ms"
      ],
      "id": "6d8605c8"
    },
    {
      "cell_type": "code",
      "execution_count": 2,
      "metadata": {},
      "outputs": [
        {
          "output_type": "display_data",
          "metadata": {},
          "data": {
            "text/plain": [
              "<ComparerCollection>\n",
              "Comparers:\n",
              "0: HKNA - Significant wave height [m]\n",
              "1: EPL - Significant wave height [m]\n",
              "2: c2 - Significant wave height [m]"
            ]
          }
        }
      ],
      "source": [
        "fn = '../data/SW/HKZN_local_2017_DutchCoast.dfsu'\n",
        "mr = ms.model_result(fn, name='HKZN_local', item=0)\n",
        "o1 = ms.PointObservation('../data/SW/HKNA_Hm0.dfs0', item=0, x=4.2420, y=52.6887, name=\"HKNA\")\n",
        "o2 = ms.PointObservation(\"../data/SW/eur_Hm0.dfs0\", item=0, x=3.2760, y=51.9990, name=\"EPL\")\n",
        "o3 = ms.TrackObservation(\"../data/SW/Alti_c2_Dutch.dfs0\", item=3, name=\"c2\")\n",
        "cc = ms.match([o1, o2, o3], mr)\n",
        "cc"
      ],
      "id": "611dcb8b"
    },
    {
      "cell_type": "markdown",
      "metadata": {},
      "source": [
        "Standard set of metrics"
      ],
      "id": "b1f475c2-2e99-4ce8-bd34-7c07911993b3"
    },
    {
      "cell_type": "code",
      "execution_count": 3,
      "metadata": {},
      "outputs": [
        {
          "output_type": "display_data",
          "metadata": {},
          "data": {
            "text/html": [
              "\n",
              "</div>"
            ]
          }
        }
      ],
      "source": [
        "cc.skill()"
      ],
      "id": "ec73c7b8"
    },
    {
      "cell_type": "markdown",
      "metadata": {},
      "source": [
        "Some metrics has parameters, which require a bit special treatment."
      ],
      "id": "64b9e5b3-38a4-4b29-8173-101bd6d9360b"
    },
    {
      "cell_type": "code",
      "execution_count": 4,
      "metadata": {},
      "outputs": [
        {
          "output_type": "display_data",
          "metadata": {},
          "data": {
            "text/html": [
              "\n",
              "</div>"
            ]
          }
        }
      ],
      "source": [
        "from modelskill.metrics import hit_ratio, metric\n",
        "\n",
        "@metric(best=\"+\")\n",
        "def hit_ratio_05_pct(obs, model):\n",
        "    return hit_ratio(obs, model, 0.5) * 100\n",
        "\n",
        "@metric(best=\"+\")\n",
        "def hit_ratio_01_pct(obs, model):\n",
        "    return hit_ratio(obs, model, 0.1) * 100\n",
        "\n",
        "\n",
        "cc.skill(metrics=[hit_ratio_05_pct, hit_ratio_01_pct])"
      ],
      "id": "2af9566c"
    },
    {
      "cell_type": "markdown",
      "metadata": {},
      "source": [
        "And you are always free to specify your own special metric or import\n",
        "metrics from other libraries, e.g. scikit-learn."
      ],
      "id": "f8784b5b-95e1-4b12-ac30-2309e098eb09"
    },
    {
      "cell_type": "code",
      "execution_count": 5,
      "metadata": {},
      "outputs": [
        {
          "output_type": "display_data",
          "metadata": {},
          "data": {
            "text/html": [
              "<style type=\"text/css\">\n",
              "#T_403c2_row0_col1 {\n",
              "  background-color: #7f0000;\n",
              "  color: #f1f1f1;\n",
              "}\n",
              "#T_403c2_row1_col1 {\n",
              "  background-color: #fff7ec;\n",
              "  color: #000000;\n",
              "  text-decoration: underline;\n",
              "  font-style: italic;\n",
              "  font-weight: bold;\n",
              "}\n",
              "#T_403c2_row2_col1 {\n",
              "  background-color: #fdddb0;\n",
              "  color: #000000;\n",
              "}\n",
              "</style>\n"
            ]
          }
        }
      ],
      "source": [
        "@metric(best=\"-\", has_units=True)\n",
        "def mcae(obs, model):\n",
        "\n",
        "    res = obs - model\n",
        "\n",
        "    res_clipped = np.clip(res,0,np.inf)\n",
        "\n",
        "    return np.mean(np.abs(res_clipped))\n",
        "\n",
        "\n",
        "cc.skill(metrics=mcae).style()"
      ],
      "id": "197e96c3"
    }
  ],
  "nbformat": 4,
  "nbformat_minor": 5,
  "metadata": {
    "kernelspec": {
      "name": "python3",
      "display_name": "Python 3 (ipykernel)",
      "language": "python",
      "path": "/opt/hostedtoolcache/Python/3.11.11/x64/share/jupyter/kernels/python3"
    },
    "language_info": {
      "name": "python",
      "codemirror_mode": {
        "name": "ipython",
        "version": "3"
      },
      "file_extension": ".py",
      "mimetype": "text/x-python",
      "nbconvert_exporter": "python",
      "pygments_lexer": "ipython3",
      "version": "3.11.11"
    }
  }
}