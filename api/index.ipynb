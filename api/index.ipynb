{
  "cells": [
    {
      "cell_type": "markdown",
      "metadata": {},
      "source": [
        "# API Reference\n",
        "\n",
        "Obtain a comparer object in one of the following ways:\n",
        "\n",
        "-   From matched data with\n",
        "    [from_matched()](../api/from_matched.html#modelskill.from_matched)\n",
        "-   After defining [observation](obs.qmd)s and [model\n",
        "    result](model.qmd)s using the\n",
        "    [match()](../api/match.html#modelskill.match) function.\n",
        "-   From a config file with\n",
        "    [from_config()](../api/from_config.html#modelskill.from_config)\n",
        "\n",
        "Do analysis and plotting with the returned\n",
        "[Comparer](../api/Comparer.html#modelskill.Comparer) (a single\n",
        "observation) or\n",
        "[ComparerCollection](../api/ComparerCollection.html#modelskill.ComparerCollection)\n",
        "(multiple observations):\n",
        "\n",
        "-   [skill()](../api/ComparerCollection.html#modelskill.ComparerCollection.skill) -\n",
        "    returns a [SkillTable](../api/SkillTable.html#modelskill.SkillTable)\n",
        "    with the skill scores\n",
        "-   plot using the various plot methods of the comparer objects\n",
        "    -   `plot.scatter()`\n",
        "    -   `plot.timeseries()`\n",
        "    -   `plot.kde()`\n",
        "    -   `plot.qq()`\n",
        "    -   `plot.hist()`"
      ],
      "id": "d40d7b8d-6738-43f3-931d-343c94da1d39"
    }
  ],
  "nbformat": 4,
  "nbformat_minor": 5,
  "metadata": {
    "kernelspec": {
      "display_name": "Python 3",
      "language": "python",
      "name": "python3"
    }
  }
}