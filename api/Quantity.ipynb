{
  "cells": [
    {
      "cell_type": "markdown",
      "metadata": {},
      "source": [
        "# Quantity\n",
        "\n",
        "``` python\n",
        "Quantity(self, name, unit, is_directional=False)\n",
        "```\n",
        "\n",
        "Quantity of data\n",
        "\n",
        "## Parameters\n",
        "\n",
        "| Name | Type | Description | Default |\n",
        "|-----------|------|-----------------------------------------------|---------|\n",
        "| name | str | Name of the quantity | *required* |\n",
        "| unit | str | Unit of the quantity | *required* |\n",
        "| is_directional | bool | Whether the quantity is directional (e.g. Wind Direction), by default False | `False` |\n",
        "\n",
        "## Examples"
      ],
      "id": "38a49dad-82fb-472a-87da-b4f47a90fa48"
    },
    {
      "cell_type": "code",
      "execution_count": 1,
      "metadata": {},
      "outputs": [
        {
          "output_type": "display_data",
          "metadata": {},
          "data": {
            "text/plain": [
              "Quantity(name='Water Level', unit='meter')"
            ]
          }
        }
      ],
      "source": [
        "from modelskill import Quantity\n",
        "wl = Quantity(name=\"Water Level\", unit=\"meter\")\n",
        "wl"
      ],
      "id": "53f80ba1"
    },
    {
      "cell_type": "code",
      "execution_count": 2,
      "metadata": {},
      "outputs": [
        {
          "output_type": "display_data",
          "metadata": {},
          "data": {
            "text/plain": [
              "'Water Level'"
            ]
          }
        }
      ],
      "source": [
        "wl.name\n",
        "'Water Level'"
      ],
      "id": "c31b0cb7"
    },
    {
      "cell_type": "code",
      "execution_count": 3,
      "metadata": {},
      "outputs": [
        {
          "output_type": "display_data",
          "metadata": {},
          "data": {
            "text/plain": [
              "'meter'"
            ]
          }
        }
      ],
      "source": [
        "wl.unit"
      ],
      "id": "4aff2cae"
    },
    {
      "cell_type": "code",
      "execution_count": 4,
      "metadata": {},
      "outputs": [
        {
          "output_type": "display_data",
          "metadata": {},
          "data": {
            "text/plain": [
              "True"
            ]
          }
        }
      ],
      "source": [
        "wl.is_compatible(wl)"
      ],
      "id": "f795e33c"
    },
    {
      "cell_type": "code",
      "execution_count": 5,
      "metadata": {},
      "outputs": [
        {
          "output_type": "display_data",
          "metadata": {},
          "data": {
            "text/plain": [
              "Quantity(name='Wind Direction', unit='degree', is_directional=True)"
            ]
          }
        }
      ],
      "source": [
        "Quantity(name=\"Wind Direction\", unit=\"degree\", is_directional=True)"
      ],
      "id": "85c8d49b"
    },
    {
      "cell_type": "markdown",
      "metadata": {},
      "source": [
        "## Methods\n",
        "\n",
        "| Name | Description |\n",
        "|------------------------------------|------------------------------------|\n",
        "| [from_cf_attrs](#modelskill.Quantity.from_cf_attrs) | Create a Quantity from a CF compliant attributes dictionary |\n",
        "| [from_mikeio_eum_name](#modelskill.Quantity.from_mikeio_eum_name) | Create a Quantity from a name recognized by mikeio |\n",
        "| [from_mikeio_iteminfo](#modelskill.Quantity.from_mikeio_iteminfo) | Create a Quantity from mikeio ItemInfo |\n",
        "| [is_compatible](#modelskill.Quantity.is_compatible) | Check if the quantity is compatible with another quantity |\n",
        "\n",
        "### from_cf_attrs\n",
        "\n",
        "``` python\n",
        "Quantity.from_cf_attrs(attrs)\n",
        "```\n",
        "\n",
        "Create a Quantity from a CF compliant attributes dictionary\n",
        "\n",
        "If units is “degree”, “degrees” or “Degree true”, the quantity is\n",
        "assumed to be directional. Based on\n",
        "https://codes.ecmwf.int/grib/param-db/ and\n",
        "https://cfconventions.org/Data/cf-standard-names/current/build/cf-standard-name-table.html\n",
        "\n",
        "#### Parameters\n",
        "\n",
        "| Name  | Type                | Description           | Default    |\n",
        "|-------|---------------------|-----------------------|------------|\n",
        "| attrs | Mapping\\[str, str\\] | Attributes dictionary | *required* |\n",
        "\n",
        "#### Examples"
      ],
      "id": "413c7711-f4e6-4e06-992a-b3432c84b28c"
    },
    {
      "cell_type": "code",
      "execution_count": 6,
      "metadata": {},
      "outputs": [
        {
          "output_type": "display_data",
          "metadata": {},
          "data": {
            "text/plain": [
              "Quantity(name='Water Level', unit='meter')"
            ]
          }
        }
      ],
      "source": [
        "Quantity.from_cf_attrs({'long_name': 'Water Level', 'units': 'meter'})"
      ],
      "id": "c19d9df0"
    },
    {
      "cell_type": "code",
      "execution_count": 7,
      "metadata": {},
      "outputs": [
        {
          "output_type": "display_data",
          "metadata": {},
          "data": {
            "text/plain": [
              "Quantity(name='Wind direction', unit='degree', is_directional=True)"
            ]
          }
        }
      ],
      "source": [
        "Quantity.from_cf_attrs({'long_name': 'Wind direction', 'units': 'degree'})"
      ],
      "id": "9ec08bf5"
    },
    {
      "cell_type": "markdown",
      "metadata": {},
      "source": [
        "### from_mikeio_eum_name\n",
        "\n",
        "``` python\n",
        "Quantity.from_mikeio_eum_name(type_name)\n",
        "```\n",
        "\n",
        "Create a Quantity from a name recognized by mikeio\n",
        "\n",
        "#### Parameters\n",
        "\n",
        "| Name      | Type | Description          | Default    |\n",
        "|-----------|------|----------------------|------------|\n",
        "| type_name | str  | Name of the quantity | *required* |\n",
        "\n",
        "#### Examples"
      ],
      "id": "3102784e-40fc-4e1d-9594-fd1300e53876"
    },
    {
      "cell_type": "code",
      "execution_count": 8,
      "metadata": {},
      "outputs": [
        {
          "output_type": "stream",
          "name": "stderr",
          "text": [
            "/opt/hostedtoolcache/Python/3.11.11/x64/lib/python3.11/site-packages/modelskill/quantity.py:166: UserWarning:\n",
            "\n",
            "unit='meter' was automatically set for type_name='Water Level'\n"
          ]
        },
        {
          "output_type": "display_data",
          "metadata": {},
          "data": {
            "text/plain": [
              "Quantity(name='Water Level', unit='meter')"
            ]
          }
        }
      ],
      "source": [
        "Quantity.from_mikeio_eum_name(\"Water Level\")"
      ],
      "id": "d1929d43"
    },
    {
      "cell_type": "markdown",
      "metadata": {},
      "source": [
        "### from_mikeio_iteminfo\n",
        "\n",
        "``` python\n",
        "Quantity.from_mikeio_iteminfo(iteminfo)\n",
        "```\n",
        "\n",
        "Create a Quantity from mikeio ItemInfo\n",
        "\n",
        "If the unit is “degree”, the quantity is assumed to be directional.\n",
        "\n",
        "### is_compatible\n",
        "\n",
        "``` python\n",
        "Quantity.is_compatible(other)\n",
        "```\n",
        "\n",
        "Check if the quantity is compatible with another quantity\n",
        "\n",
        "#### Examples"
      ],
      "id": "b4475086-c927-4fed-85f4-d7b1bfe50694"
    },
    {
      "cell_type": "code",
      "execution_count": 9,
      "metadata": {},
      "outputs": [
        {
          "output_type": "display_data",
          "metadata": {},
          "data": {
            "text/plain": [
              "False"
            ]
          }
        }
      ],
      "source": [
        "wl = Quantity(name=\"Water Level\", unit=\"meter\")\n",
        "ws = Quantity(name=\"Wind Speed\", unit=\"meter per second\")\n",
        "wl.is_compatible(ws)"
      ],
      "id": "9856660c"
    },
    {
      "cell_type": "code",
      "execution_count": 10,
      "metadata": {},
      "outputs": [
        {
          "output_type": "display_data",
          "metadata": {},
          "data": {
            "text/plain": [
              "True"
            ]
          }
        }
      ],
      "source": [
        "uq = Quantity(name=\"Undefined\", unit=\"Undefined\")\n",
        "wl.is_compatible(uq)"
      ],
      "id": "871ef94c"
    }
  ],
  "nbformat": 4,
  "nbformat_minor": 5,
  "metadata": {
    "kernelspec": {
      "name": "python3",
      "display_name": "Python 3 (ipykernel)",
      "language": "python",
      "path": "/opt/hostedtoolcache/Python/3.11.11/x64/share/jupyter/kernels/python3"
    },
    "language_info": {
      "name": "python",
      "codemirror_mode": {
        "name": "ipython",
        "version": "3"
      },
      "file_extension": ".py",
      "mimetype": "text/x-python",
      "nbconvert_exporter": "python",
      "pygments_lexer": "ipython3",
      "version": "3.11.11"
    }
  }
}