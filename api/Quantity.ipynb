{
  "cells": [
    {
      "cell_type": "markdown",
      "metadata": {},
      "source": [
        "# Quantity\n",
        "\n",
        "``` python\n",
        "Quantity(name, unit, is_directional=False)\n",
        "```\n",
        "\n",
        "Quantity of data\n",
        "\n",
        "## Parameters\n",
        "\n",
        "| Name | Type | Description | Default |\n",
        "|-----------|------|-----------------------------------------------|---------|\n",
        "| name | str | Name of the quantity | *required* |\n",
        "| unit | str | Unit of the quantity | *required* |\n",
        "| is_directional | bool | Whether the quantity is directional (e.g. Wind Direction), by default False | `False` |\n",
        "\n",
        "## Examples"
      ],
      "id": "4ff95b9b-6333-4387-8eb4-b909cbabda95"
    },
    {
      "cell_type": "code",
      "execution_count": 1,
      "metadata": {},
      "outputs": [
        {
          "output_type": "display_data",
          "metadata": {},
          "data": {
            "text/plain": [
              "Quantity(name='Water Level', unit='meter')"
            ]
          }
        }
      ],
      "source": [
        "from modelskill import Quantity\n",
        "wl = Quantity(name=\"Water Level\", unit=\"meter\")\n",
        "wl"
      ],
      "id": "92338b81"
    },
    {
      "cell_type": "code",
      "execution_count": 2,
      "metadata": {},
      "outputs": [
        {
          "output_type": "display_data",
          "metadata": {},
          "data": {
            "text/plain": [
              "'Water Level'"
            ]
          }
        }
      ],
      "source": [
        "wl.name\n",
        "'Water Level'"
      ],
      "id": "2b72d796"
    },
    {
      "cell_type": "code",
      "execution_count": 3,
      "metadata": {},
      "outputs": [
        {
          "output_type": "display_data",
          "metadata": {},
          "data": {
            "text/plain": [
              "'meter'"
            ]
          }
        }
      ],
      "source": [
        "wl.unit"
      ],
      "id": "1f36f888"
    },
    {
      "cell_type": "code",
      "execution_count": 4,
      "metadata": {},
      "outputs": [
        {
          "output_type": "display_data",
          "metadata": {},
          "data": {
            "text/plain": [
              "True"
            ]
          }
        }
      ],
      "source": [
        "wl.is_compatible(wl)"
      ],
      "id": "0885f396"
    },
    {
      "cell_type": "code",
      "execution_count": 5,
      "metadata": {},
      "outputs": [
        {
          "output_type": "display_data",
          "metadata": {},
          "data": {
            "text/plain": [
              "Quantity(name='Wind Direction', unit='degree', is_directional=True)"
            ]
          }
        }
      ],
      "source": [
        "Quantity(name=\"Wind Direction\", unit=\"degree\", is_directional=True)"
      ],
      "id": "689038d5"
    },
    {
      "cell_type": "markdown",
      "metadata": {},
      "source": [
        "## Methods\n",
        "\n",
        "| Name | Description |\n",
        "|------------------------------------|------------------------------------|\n",
        "| [from_cf_attrs](#modelskill.Quantity.from_cf_attrs) | Create a Quantity from a CF compliant attributes dictionary |\n",
        "| [from_mikeio_eum_name](#modelskill.Quantity.from_mikeio_eum_name) | Create a Quantity from a name recognized by mikeio |\n",
        "| [from_mikeio_iteminfo](#modelskill.Quantity.from_mikeio_iteminfo) | Create a Quantity from mikeio ItemInfo |\n",
        "| [is_compatible](#modelskill.Quantity.is_compatible) | Check if the quantity is compatible with another quantity |\n",
        "\n",
        "### from_cf_attrs\n",
        "\n",
        "``` python\n",
        "Quantity.from_cf_attrs(attrs)\n",
        "```\n",
        "\n",
        "Create a Quantity from a CF compliant attributes dictionary\n",
        "\n",
        "If units is “degree”, “degrees” or “Degree true”, the quantity is\n",
        "assumed to be directional. Based on\n",
        "https://codes.ecmwf.int/grib/param-db/ and\n",
        "https://cfconventions.org/Data/cf-standard-names/current/build/cf-standard-name-table.html\n",
        "\n",
        "#### Parameters\n",
        "\n",
        "| Name  | Type                | Description           | Default    |\n",
        "|-------|---------------------|-----------------------|------------|\n",
        "| attrs | Mapping\\[str, str\\] | Attributes dictionary | *required* |\n",
        "\n",
        "#### Examples"
      ],
      "id": "07abe2ba-e0e1-4570-a691-9034e3f5a01f"
    },
    {
      "cell_type": "code",
      "execution_count": 6,
      "metadata": {},
      "outputs": [
        {
          "output_type": "display_data",
          "metadata": {},
          "data": {
            "text/plain": [
              "Quantity(name='Water Level', unit='meter')"
            ]
          }
        }
      ],
      "source": [
        "Quantity.from_cf_attrs({'long_name': 'Water Level', 'units': 'meter'})"
      ],
      "id": "1022263d"
    },
    {
      "cell_type": "code",
      "execution_count": 7,
      "metadata": {},
      "outputs": [
        {
          "output_type": "display_data",
          "metadata": {},
          "data": {
            "text/plain": [
              "Quantity(name='Wind direction', unit='degree', is_directional=True)"
            ]
          }
        }
      ],
      "source": [
        "Quantity.from_cf_attrs({'long_name': 'Wind direction', 'units': 'degree'})"
      ],
      "id": "9480f04b"
    },
    {
      "cell_type": "markdown",
      "metadata": {},
      "source": [
        "### from_mikeio_eum_name\n",
        "\n",
        "``` python\n",
        "Quantity.from_mikeio_eum_name(type_name)\n",
        "```\n",
        "\n",
        "Create a Quantity from a name recognized by mikeio\n",
        "\n",
        "#### Parameters\n",
        "\n",
        "| Name      | Type | Description          | Default    |\n",
        "|-----------|------|----------------------|------------|\n",
        "| type_name | str  | Name of the quantity | *required* |\n",
        "\n",
        "#### Examples"
      ],
      "id": "329bca61-39a6-4c69-a60f-e32231effbbd"
    },
    {
      "cell_type": "code",
      "execution_count": 8,
      "metadata": {},
      "outputs": [
        {
          "output_type": "stream",
          "name": "stderr",
          "text": [
            "/home/runner/work/modelskill/modelskill/src/modelskill/quantity.py:166: UserWarning:\n",
            "\n",
            "unit='meter' was automatically set for type_name='Water Level'\n"
          ]
        },
        {
          "output_type": "display_data",
          "metadata": {},
          "data": {
            "text/plain": [
              "Quantity(name='Water Level', unit='meter')"
            ]
          }
        }
      ],
      "source": [
        "Quantity.from_mikeio_eum_name(\"Water Level\")"
      ],
      "id": "3f50b9ae"
    },
    {
      "cell_type": "markdown",
      "metadata": {},
      "source": [
        "### from_mikeio_iteminfo\n",
        "\n",
        "``` python\n",
        "Quantity.from_mikeio_iteminfo(iteminfo)\n",
        "```\n",
        "\n",
        "Create a Quantity from mikeio ItemInfo\n",
        "\n",
        "If the unit is “degree”, the quantity is assumed to be directional.\n",
        "\n",
        "### is_compatible\n",
        "\n",
        "``` python\n",
        "Quantity.is_compatible(other)\n",
        "```\n",
        "\n",
        "Check if the quantity is compatible with another quantity\n",
        "\n",
        "#### Examples"
      ],
      "id": "ef8f2ac5-f8be-490d-bfc2-7a4354f94cd0"
    },
    {
      "cell_type": "code",
      "execution_count": 9,
      "metadata": {},
      "outputs": [
        {
          "output_type": "display_data",
          "metadata": {},
          "data": {
            "text/plain": [
              "False"
            ]
          }
        }
      ],
      "source": [
        "wl = Quantity(name=\"Water Level\", unit=\"meter\")\n",
        "ws = Quantity(name=\"Wind Speed\", unit=\"meter per second\")\n",
        "wl.is_compatible(ws)"
      ],
      "id": "164c75bf"
    },
    {
      "cell_type": "code",
      "execution_count": 10,
      "metadata": {},
      "outputs": [
        {
          "output_type": "display_data",
          "metadata": {},
          "data": {
            "text/plain": [
              "True"
            ]
          }
        }
      ],
      "source": [
        "uq = Quantity(name=\"Undefined\", unit=\"Undefined\")\n",
        "wl.is_compatible(uq)"
      ],
      "id": "86d60291"
    }
  ],
  "nbformat": 4,
  "nbformat_minor": 5,
  "metadata": {
    "kernelspec": {
      "name": "python3",
      "display_name": "Python 3 (ipykernel)",
      "language": "python",
      "path": "/home/runner/work/modelskill/modelskill/.venv/share/jupyter/kernels/python3"
    },
    "language_info": {
      "name": "python",
      "codemirror_mode": {
        "name": "ipython",
        "version": "3"
      },
      "file_extension": ".py",
      "mimetype": "text/x-python",
      "nbconvert_exporter": "python",
      "pygments_lexer": "ipython3",
      "version": "3.12.3"
    }
  }
}