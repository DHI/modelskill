{
  "cells": [
    {
      "cell_type": "markdown",
      "metadata": {},
      "source": [
        "# data\n",
        "\n",
        "`data`\n",
        "\n",
        "Toy datasets for testing and demonstration purposes\n",
        "\n",
        "## Examples"
      ],
      "id": "55e92ff5-a64a-4422-9803-732002452a1b"
    },
    {
      "cell_type": "code",
      "execution_count": 1,
      "metadata": {},
      "outputs": [
        {
          "output_type": "display_data",
          "metadata": {},
          "data": {
            "text/plain": [
              "<ComparerCollection>\n",
              "Comparers:\n",
              "0: Tczew - Discharge [m3/s]\n",
              "1: Krasnystaw - Discharge [m3/s]\n",
              "2: Sandomierz - Discharge [m3/s]\n",
              "3: Szczucin - Discharge [m3/s]\n",
              "4: Nowy Sacz - Discharge [m3/s]\n",
              "5: Tryncza - Discharge [m3/s]\n",
              "6: Ptaki - Discharge [m3/s]\n",
              "7: Suraz - Discharge [m3/s]"
            ]
          }
        }
      ],
      "source": [
        ">>> import modelskill as ms\n",
        ">>> cc = ms.data.vistula()\n",
        ">>> cc"
      ],
      "id": "14c7d49f"
    },
    {
      "cell_type": "code",
      "execution_count": 2,
      "metadata": {},
      "outputs": [
        {
          "output_type": "display_data",
          "metadata": {},
          "data": {
            "text/plain": [
              "<ComparerCollection>\n",
              "Comparers:\n",
              "0: Drogden - Surface Elevation [meter]\n",
              "1: Barseback - Surface Elevation [meter]\n",
              "2: Helsingborg - Surface Elevation [meter]\n",
              "3: Kobenhavn - Surface Elevation [meter]\n",
              "4: Koege - Surface Elevation [meter]\n",
              "5: MalmoHamn - Surface Elevation [meter]\n",
              "6: Vedbaek - Surface Elevation [meter]"
            ]
          }
        }
      ],
      "source": [
        ">>> cc = ms.data.oresund()\n",
        ">>> cc"
      ],
      "id": "2846d34e"
    },
    {
      "cell_type": "markdown",
      "metadata": {},
      "source": [
        "## Functions\n",
        "\n",
        "| Name | Description |\n",
        "|------------------------------------|------------------------------------|\n",
        "| [oresund](#modelskill.data.oresund) | Oresund water level data for Jan-June 2022 compared with MIKE21 model |\n",
        "| [vistula](#modelskill.data.vistula) | 5-year daily discharge data for Vistula catchment, Poland |\n",
        "\n",
        "### oresund\n",
        "\n",
        "``` python\n",
        "data.oresund()\n",
        "```\n",
        "\n",
        "Oresund water level data for Jan-June 2022 compared with MIKE21 model\n",
        "\n",
        "Contains water level data for 7 stations along the Oresund strait with\n",
        "metadata about the country in the attrs dictionary.\n",
        "\n",
        "The dataset contains additional ERA5 wind-components U10 and V10 aux\n",
        "data.\n",
        "\n",
        "#### Returns\n",
        "\n",
        "| Name | Type               | Description |\n",
        "|------|--------------------|-------------|\n",
        "|      | ComparerCollection |             |\n",
        "\n",
        "### vistula\n",
        "\n",
        "``` python\n",
        "data.vistula()\n",
        "```\n",
        "\n",
        "5-year daily discharge data for Vistula catchment, Poland\n",
        "\n",
        "Contains discharge data for 8 stations along the Vistula river compared\n",
        "with two hydrological models “sim1” and “sim2”.\n",
        "\n",
        "The dataset additionally contains precipitation data as aux data and\n",
        "metadata about the river and the catchment area in the attrs dictionary.\n",
        "\n",
        "#### Returns\n",
        "\n",
        "| Name | Type               | Description |\n",
        "|------|--------------------|-------------|\n",
        "|      | ComparerCollection |             |"
      ],
      "id": "95c33ff1-2c08-4deb-ab96-140372b19b3e"
    }
  ],
  "nbformat": 4,
  "nbformat_minor": 5,
  "metadata": {
    "kernelspec": {
      "name": "python3",
      "display_name": "Python 3 (ipykernel)",
      "language": "python",
      "path": "/home/runner/work/modelskill/modelskill/.venv/share/jupyter/kernels/python3"
    },
    "language_info": {
      "name": "python",
      "codemirror_mode": {
        "name": "ipython",
        "version": "3"
      },
      "file_extension": ".py",
      "mimetype": "text/x-python",
      "nbconvert_exporter": "python",
      "pygments_lexer": "ipython3",
      "version": "3.12.3"
    }
  }
}