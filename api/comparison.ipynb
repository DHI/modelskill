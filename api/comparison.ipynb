{
  "cells": [
    {
      "cell_type": "markdown",
      "metadata": {},
      "source": [
        "# \n",
        "\n",
        "# comparison\n",
        "\n",
        "`comparison`\n",
        "\n",
        "Compare model output with observations.\n",
        "\n",
        "The `comparison` module contains different types of classes for single\n",
        "observation comparison (Comparer), and collections of Comparers\n",
        "(ComparerCollection)."
      ],
      "id": "cbb2527c-418e-4cbd-bd9d-01a66e11c04a"
    }
  ],
  "nbformat": 4,
  "nbformat_minor": 5,
  "metadata": {
    "kernelspec": {
      "display_name": "Python 3",
      "language": "python",
      "name": "python3"
    }
  }
}