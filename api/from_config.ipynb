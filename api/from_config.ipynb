{
  "cells": [
    {
      "cell_type": "markdown",
      "metadata": {},
      "source": [
        "# from_config\n",
        "\n",
        "``` python\n",
        "from_config(conf, *, relative_path=True)\n",
        "```\n",
        "\n",
        "Load ComparerCollection from a config file (or dict)\n",
        "\n",
        "## Parameters\n",
        "\n",
        "| Name | Type | Description | Default |\n",
        "|-------|-----------|--------------------------------------------------|------|\n",
        "| conf | Union\\[str, Path, dict\\] | path to config file or dict with configuration | *required* |\n",
        "| relative_path |  | True: file paths are relative to configuration file, False: file paths are absolute (relative to the current directory), by default True | `True` |\n",
        "\n",
        "## Returns\n",
        "\n",
        "| Name | Type | Description |\n",
        "|--------|-----------------|-----------------------------------------------|\n",
        "|  | ComparerCollection | A ComparerCollection object from the given configuration |\n",
        "\n",
        "## Examples"
      ],
      "id": "4215d2bd-7d23-4e75-b887-15ea754f7fa6"
    },
    {
      "cell_type": "code",
      "execution_count": 1,
      "metadata": {},
      "outputs": [
        {
          "output_type": "display_data",
          "metadata": {},
          "data": {
            "text/plain": [
              "<ComparerCollection>\n",
              "Comparers:\n",
              "0: Klagshamn - Water Level [m]\n",
              "1: Drogden - Water Level [m]"
            ]
          }
        }
      ],
      "source": [
        ">>> import modelskill as ms\n",
        ">>> cc = ms.from_config('../data/conf.yml')\n",
        ">>> cc"
      ],
      "id": "e358ae46"
    }
  ],
  "nbformat": 4,
  "nbformat_minor": 5,
  "metadata": {
    "kernelspec": {
      "name": "python3",
      "display_name": "Python 3 (ipykernel)",
      "language": "python",
      "path": "/opt/hostedtoolcache/Python/3.11.11/x64/share/jupyter/kernels/python3"
    },
    "language_info": {
      "name": "python",
      "codemirror_mode": {
        "name": "ipython",
        "version": "3"
      },
      "file_extension": ".py",
      "mimetype": "text/x-python",
      "nbconvert_exporter": "python",
      "pygments_lexer": "ipython3",
      "version": "3.11.11"
    }
  }
}