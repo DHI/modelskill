{
  "cells": [
    {
      "cell_type": "markdown",
      "metadata": {},
      "source": [
        "# \n",
        "\n",
        "# model\n",
        "\n",
        "`model`\n",
        "\n",
        "# Model Result\n",
        "\n",
        "A model result can either be a simple point/track, or spatial field\n",
        "(e.g. 2d dfsu file) from which data can be *extracted* at the\n",
        "observation positions by spatial interpolation. The following types are\n",
        "available:\n",
        "\n",
        "-   Timeseries\n",
        "    -   [`PointModelResult`](../api/PointModelResult.html#modelskill.PointModelResult) -\n",
        "        a point result from a dfs0/nc file or a DataFrame\n",
        "    -   [`TrackModelResult`](../api/TrackModelResult.html#modelskill.TrackModelResult) -\n",
        "        a track (moving point) result from a dfs0/nc file or a DataFrame\n",
        "-   SpatialField (extractable)\n",
        "    -   [`GridModelResult`](../api/GridModelResult.html#modelskill.GridModelResult) -\n",
        "        a spatial field from a dfs2/nc file or a Xarray Dataset\n",
        "    -   [`DfsuModelResult`](../api/DfsuModelResult.html#modelskill.DfsuModelResult) -\n",
        "        a spatial field from a dfsu file\n",
        "\n",
        "A model result can be created by explicitly invoking one of the above\n",
        "classes or using the\n",
        "[`model_result()`](../api/model_result.html#modelskill.model_result)\n",
        "function which will return the appropriate type based on the input data\n",
        "(if possible)."
      ],
      "id": "3f28ab19-339b-4250-b786-7e6eabd111c2"
    }
  ],
  "nbformat": 4,
  "nbformat_minor": 5,
  "metadata": {
    "kernelspec": {
      "display_name": "Python 3",
      "language": "python",
      "name": "python3"
    }
  }
}