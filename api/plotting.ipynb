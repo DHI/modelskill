{
  "cells": [
    {
      "cell_type": "markdown",
      "metadata": {},
      "source": [
        "# \n",
        "\n",
        "# plotting\n",
        "\n",
        "`plotting`\n",
        "\n",
        "Plotting functions independent of the comparison module.\n",
        "\n",
        "-   `scatter` is a function that can be used to plot a scatter suitable\n",
        "    for skill assessment, with a 1:1 line and a linear regression line.\n",
        "-   `wind_rose` is a function that can be used to plot a dual wind rose\n",
        "    to compare two datasets of magnitudes and directions.\n",
        "-   `spatial_overview` is a function that can be used to plot a spatial\n",
        "    overview of two datasets.\n",
        "-   `temporal_coverage` is a function that can be used to plot the\n",
        "    temporal coverage of two datasets."
      ],
      "id": "bd63dbc3-dc0d-429c-90f4-9a12b141d7e4"
    }
  ],
  "nbformat": 4,
  "nbformat_minor": 5,
  "metadata": {
    "kernelspec": {
      "display_name": "Python 3",
      "language": "python",
      "name": "python3"
    }
  }
}