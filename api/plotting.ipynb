{
  "cells": [
    {
      "cell_type": "markdown",
      "metadata": {},
      "source": [
        "# \n",
        "\n",
        "# plotting\n",
        "\n",
        "`plotting`\n",
        "\n",
        "Plotting functions independent of the comparison module.\n",
        "\n",
        "-   `scatter` is a function that can be used to plot a scatter suitable\n",
        "    for skill assessment, with a 1:1 line and a linear regression line.\n",
        "-   `wind_rose` is a function that can be used to plot a dual wind rose\n",
        "    to compare two datasets of magnitudes and directions.\n",
        "-   `spatial_overview` is a function that can be used to plot a spatial\n",
        "    overview of two datasets.\n",
        "-   `temporal_coverage` is a function that can be used to plot the\n",
        "    temporal coverage of two datasets."
      ],
      "id": "d94bb6e7-5ec1-4178-8e31-b7b4fedab8e0"
    }
  ],
  "nbformat": 4,
  "nbformat_minor": 5,
  "metadata": {
    "kernelspec": {
      "display_name": "Python 3",
      "language": "python",
      "name": "python3"
    }
  }
}