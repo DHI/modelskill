{
  "cells": [
    {
      "cell_type": "markdown",
      "metadata": {},
      "source": [
        "# \n",
        "\n",
        "# model_result\n",
        "\n",
        "``` python\n",
        "model_result(data, *, aux_items=None, gtype=None, **kwargs)\n",
        "```\n",
        "\n",
        "A factory function for creating an appropriate object based on the data\n",
        "input.\n",
        "\n",
        "## Parameters\n",
        "\n",
        "| Name | Type | Description | Default |\n",
        "|------|-----------------------------|---------------------------------|------|\n",
        "| data | DataInputType | The data to be used for creating the ModelResult object. | *required* |\n",
        "| aux_items | Optional\\[list\\[int \\| str\\]\\] | Auxiliary items, by default None | `None` |\n",
        "| gtype | Optional\\[Literal\\['point', 'track', 'unstructured', 'grid'\\]\\] | The geometry type of the data. If not specified, it will be guessed from the data. | `None` |\n",
        "| \\*\\*kwargs | Any | Additional keyword arguments to be passed to the ModelResult constructor. | `{}` |\n",
        "\n",
        "## Examples\n",
        "\n",
        "``` python\n",
        ">>> import modelskill as ms\n",
        ">>> ms.model_result(\"Oresund2D.dfsu\", item=0)\n",
        "<DfsuModelResult> 'Oresund2D'\n",
        ">>> ms.model_result(\"ERA5_DutchCoast.nc\", item=\"swh\", name=\"ERA5\")\n",
        "<GridModelResult> 'ERA5'\n",
        "```"
      ],
      "id": "64398f0a-c319-4225-8426-5ef555887099"
    }
  ],
  "nbformat": 4,
  "nbformat_minor": 5,
  "metadata": {
    "kernelspec": {
      "display_name": "Python 3",
      "language": "python",
      "name": "python3"
    }
  }
}