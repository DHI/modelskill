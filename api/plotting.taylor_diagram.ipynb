{
  "cells": [
    {
      "cell_type": "markdown",
      "metadata": {},
      "source": [
        "# \n",
        "\n",
        "# plotting.taylor_diagram\n",
        "\n",
        "``` python\n",
        "plotting.taylor_diagram(\n",
        "    obs_std,\n",
        "    points,\n",
        "    figsize=(7, 7),\n",
        "    obs_text='Observations',\n",
        "    normalize_std=False,\n",
        "    ax=None,\n",
        "    title='Taylor diagram',\n",
        ")\n",
        "```\n",
        "\n",
        "Plot a Taylor diagram using the given observations and points.\n",
        "\n",
        "## Parameters\n",
        "\n",
        "| Name | Type | Description | Default |\n",
        "|------|--------------------|---------------------------------------|--------|\n",
        "| obs_std | float | Standard deviation of the observations. | *required* |\n",
        "| points | list of TaylorPoint objects or a single TaylorPoint object | Points to plot on the Taylor diagram. | *required* |\n",
        "| figsize | tuple | Figure size in inches. Default is (7, 7). | `(7, 7)` |\n",
        "| obs_text | str | Label for the observations. Default is “Observations”. | `'Observations'` |\n",
        "| normalize_std | bool | Whether to normalize the standard deviation of the points by the standard deviation of the observations. Default is False. | `False` |\n",
        "| title | str | Title of the plot. Default is “Taylor diagram”. | `'Taylor diagram'` |\n",
        "\n",
        "## Returns\n",
        "\n",
        "| Name | Type                     | Description                  |\n",
        "|------|--------------------------|------------------------------|\n",
        "|      | matplotlib.figure.Figure | The matplotlib figure object |"
      ],
      "id": "762b50ca-a866-4778-8a4c-6ae0240b3c7b"
    }
  ],
  "nbformat": 4,
  "nbformat_minor": 5,
  "metadata": {
    "kernelspec": {
      "display_name": "Python 3",
      "language": "python",
      "name": "python3"
    }
  }
}