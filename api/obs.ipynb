{
  "cells": [
    {
      "cell_type": "markdown",
      "metadata": {},
      "source": [
        "# \n",
        "\n",
        "# obs\n",
        "\n",
        "`obs`\n",
        "\n",
        "# Observations\n",
        "\n",
        "ModelSkill supports two types of observations:\n",
        "\n",
        "-   [`PointObservation`](../api/PointObservation.html#modelskill.PointObservation) -\n",
        "    a point timeseries from a dfs0/nc file or a DataFrame\n",
        "-   [`TrackObservation`](../api/TrackObservation.html#modelskill.TrackObservation) -\n",
        "    a track (moving point) timeseries from a dfs0/nc file or a DataFrame\n",
        "\n",
        "An observation can be created by explicitly invoking one of the above\n",
        "classes or using the\n",
        "[`observation()`](../api/observation.html#modelskill.observation)\n",
        "function which will return the appropriate type based on the input data\n",
        "(if possible)."
      ],
      "id": "f76ef761-be1d-4017-9b2a-6f16580fd9b5"
    }
  ],
  "nbformat": 4,
  "nbformat_minor": 5,
  "metadata": {
    "kernelspec": {
      "display_name": "Python 3",
      "language": "python",
      "name": "python3"
    }
  }
}