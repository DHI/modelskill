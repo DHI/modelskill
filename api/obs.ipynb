{
  "cells": [
    {
      "cell_type": "markdown",
      "metadata": {},
      "source": [
        "# \n",
        "\n",
        "# obs\n",
        "\n",
        "`obs`\n",
        "\n",
        "# Observations\n",
        "\n",
        "ModelSkill supports two types of observations:\n",
        "\n",
        "-   [`PointObservation`](../api/PointObservation.html#modelskill.PointObservation) -\n",
        "    a point timeseries from a dfs0/nc file or a DataFrame\n",
        "-   [`TrackObservation`](../api/TrackObservation.html#modelskill.TrackObservation) -\n",
        "    a track (moving point) timeseries from a dfs0/nc file or a DataFrame\n",
        "\n",
        "An observation can be created by explicitly invoking one of the above\n",
        "classes or using the\n",
        "[`observation()`](../api/observation.html#modelskill.observation)\n",
        "function which will return the appropriate type based on the input data\n",
        "(if possible)."
      ],
      "id": "19214127-8443-421b-91b3-36bbf661c6e7"
    }
  ],
  "nbformat": 4,
  "nbformat_minor": 5,
  "metadata": {
    "kernelspec": {
      "display_name": "Python 3",
      "language": "python",
      "name": "python3"
    }
  }
}