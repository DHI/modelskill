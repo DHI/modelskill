{
  "cells": [
    {
      "cell_type": "markdown",
      "metadata": {},
      "source": [
        "# \n",
        "\n",
        "# observation\n",
        "\n",
        "``` python\n",
        "observation(data, *, gtype=None, **kwargs)\n",
        "```\n",
        "\n",
        "Create an appropriate observation object.\n",
        "\n",
        "A factory function for creating an appropriate observation object based\n",
        "on the data and args.\n",
        "\n",
        "If ‘x’ or ‘y’ is given, a PointObservation is created. If ‘x_item’ or\n",
        "‘y_item’ is given, a TrackObservation is created.\n",
        "\n",
        "## Parameters\n",
        "\n",
        "| Name | Type | Description | Default |\n",
        "|------|---------------------|---------------------------------------|-------|\n",
        "| data | DataInputType | The data to be used for creating the Observation object. | *required* |\n",
        "| gtype | Optional\\[Literal\\['point', 'track'\\]\\] | The geometry type of the data. If not specified, it will be guessed from the data. | `None` |\n",
        "| \\*\\*kwargs |  | Additional keyword arguments to be passed to the Observation constructor. | `{}` |\n",
        "\n",
        "## Examples\n",
        "\n",
        "``` python\n",
        ">>> import modelskill as ms\n",
        ">>> o_pt = ms.observation(df, item=0, x=366844, y=6154291, name=\"Klagshamn\")\n",
        ">>> o_tr = ms.observation(\"lon_after_lat.dfs0\", item=\"wl\", x_item=1, y_item=0)\n",
        "```"
      ],
      "id": "008168c5-977e-41f3-be2b-2cbfdf32bb6d"
    }
  ],
  "nbformat": 4,
  "nbformat_minor": 5,
  "metadata": {
    "kernelspec": {
      "display_name": "Python 3",
      "language": "python",
      "name": "python3"
    }
  }
}