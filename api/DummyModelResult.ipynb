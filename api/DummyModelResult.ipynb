{
  "cells": [
    {
      "cell_type": "markdown",
      "metadata": {},
      "source": [
        "# \n",
        "\n",
        "# DummyModelResult\n",
        "\n",
        "``` python\n",
        "DummyModelResult(self, name='dummy', data=None, strategy='constant')\n",
        "```\n",
        "\n",
        "Dummy model result that always returns the same value.\n",
        "\n",
        "Similar in spirit to\n",
        "<https://scikit-learn.org/stable/modules/generated/sklearn.dummy.DummyRegressor.html>\n",
        "\n",
        "## Parameters\n",
        "\n",
        "| Name | Type | Description | Default |\n",
        "|------|-----|-------------------------------------------------------|-------|\n",
        "| data | float | The value to return if strategy is ‘constant’, by default None | `None` |\n",
        "| name | str | The name of the model result, by default ‘dummy’ | `'dummy'` |\n",
        "| strategy | str | The strategy to use, ‘mean’ uses the mean of the observation, ‘constant’ uses the value given in data, by default ‘constant’ | `'constant'` |\n",
        "\n",
        "## Examples\n",
        "\n",
        "``` python\n",
        ">>> import pandas as pd\n",
        ">>> import modelskill as ms\n",
        ">>> df = pd.DataFrame([0.0, 1.0], index=pd.date_range(\"2000\", freq=\"H\", periods=2))\n",
        ">>> obs = ms.PointObservation(df, name=\"foo\")\n",
        ">>> mr = ms.DummyModelResult(strategy='mean')\n",
        ">>> pmr = mr.extract(obs)\n",
        ">>> pmr.to_dataframe()\n",
        "                    dummy\n",
        "time\n",
        "2000-01-01 00:00:00    0.5\n",
        "2000-01-01 01:00:00    0.5\n",
        "```"
      ],
      "id": "89d16643-8964-45b8-b7e7-77f016f6d537"
    }
  ],
  "nbformat": 4,
  "nbformat_minor": 5,
  "metadata": {
    "kernelspec": {
      "display_name": "Python 3",
      "language": "python",
      "name": "python3"
    }
  }
}