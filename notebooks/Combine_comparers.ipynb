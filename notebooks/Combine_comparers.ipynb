{
    "cells": [
        {
            "attachments": {},
            "cell_type": "markdown",
            "metadata": {},
            "source": [
                "# Combine comparers\n",
                "ModelSkill comparers can be combined using `merge`."
            ]
        },
        {
            "cell_type": "code",
            "execution_count": 1,
            "metadata": {},
            "outputs": [],
            "source": [
                "import modelskill as ms"
            ]
        },
        {
            "attachments": {},
            "cell_type": "markdown",
            "metadata": {},
            "source": [
                "## Observations"
            ]
        },
        {
            "cell_type": "code",
            "execution_count": 2,
            "metadata": {},
            "outputs": [],
            "source": [
                "o1 = ms.PointObservation('../tests/testdata/SW/HKNA_Hm0.dfs0', item=0, x=4.2420, y=52.6887, name=\"HKNA\")\n",
                "o2 = ms.PointObservation(\"../tests/testdata/SW/eur_Hm0.dfs0\", item=0, x=3.2760, y=51.9990, name=\"EPL\")\n",
                "o3 = ms.TrackObservation(\"../tests/testdata/SW/Alti_c2_Dutch.dfs0\", item=3, name=\"c2\")"
            ]
        },
        {
            "attachments": {},
            "cell_type": "markdown",
            "metadata": {},
            "source": [
                "## Model Results"
            ]
        },
        {
            "cell_type": "code",
            "execution_count": 3,
            "metadata": {},
            "outputs": [
                {
                    "data": {
                        "text/plain": [
                            "<GridModelResult>: CMEMS\n",
                            "Time: 2017-10-28 00:00:00 - 2017-10-29 18:00:00\n",
                            "Quantity: Spectral significant wave height (Hm0) [m]"
                        ]
                    },
                    "execution_count": 3,
                    "metadata": {},
                    "output_type": "execute_result"
                }
            ],
            "source": [
                "fn = \"../tests/testdata/SW/CMEMS_DutchCoast_*.nc\"\n",
                "mr1 = ms.model_result(fn, name='CMEMS', item='VHM0')\n",
                "mr1"
            ]
        },
        {
            "cell_type": "code",
            "execution_count": 4,
            "metadata": {},
            "outputs": [],
            "source": [
                "mr2 = ms.model_result('../tests/testdata/SW/HKZN_local_2017_DutchCoast.dfsu', name='MIKE21SW', item=0)"
            ]
        },
        {
            "attachments": {},
            "cell_type": "markdown",
            "metadata": {},
            "source": [
                "## Match\n",
                "Notice that the two ModelResults doesn't cover the exact same period."
            ]
        },
        {
            "cell_type": "code",
            "execution_count": 5,
            "metadata": {},
            "outputs": [
                {
                    "data": {
                        "text/plain": [
                            "<Axes: >"
                        ]
                    },
                    "execution_count": 5,
                    "metadata": {},
                    "output_type": "execute_result"
                },
                {
                    "data": {
                        "image/png": "[encoded data removed]",
                        "text/plain": [
                            "<Figure size 700x225 with 1 Axes>"
                        ]
                    },
                    "metadata": {},
                    "output_type": "display_data"
                }
            ],
            "source": [
                "ms.plotting.temporal_coverage(obs=[o1,o2,o3], mod=[mr1,mr2], limit_to_model_period=False)"
            ]
        },
        {
            "cell_type": "code",
            "execution_count": 6,
            "metadata": {},
            "outputs": [],
            "source": [
                "cc1 = ms.match(obs=[o1,o2,o3], mod=mr1)#, name='SW')\n",
                "cc2 = ms.match(obs=[o1,o2,o3], mod=mr2)# , name='SW')"
            ]
        },
        {
            "cell_type": "code",
            "execution_count": 7,
            "metadata": {},
            "outputs": [
                {
                    "data": {
                        "text/html": [
                            "<div>\n",
                            "<style scoped>\n",
                            "    .dataframe tbody tr th:only-of-type {\n",
                            "        vertical-align: middle;\n",
                            "    }\n",
                            "\n",
                            "    .dataframe tbody tr th {\n",
                            "        vertical-align: top;\n",
                            "    }\n",
                            "\n",
                            "    .dataframe thead th {\n",
                            "        text-align: right;\n",
                            "    }\n",
                            "</style>\n",
                            "<table border=\"1\" class=\"dataframe\">\n",
                            "  <thead>\n",
                            "    <tr style=\"text-align: right;\">\n",
                            "      <th></th>\n",
                            "      <th>n</th>\n",
                            "      <th>bias</th>\n",
                            "      <th>rmse</th>\n",
                            "      <th>urmse</th>\n",
                            "      <th>mae</th>\n",
                            "      <th>cc</th>\n",
                            "      <th>si</th>\n",
                            "      <th>r2</th>\n",
                            "    </tr>\n",
                            "    <tr>\n",
                            "      <th>observation</th>\n",
                            "      <th></th>\n",
                            "      <th></th>\n",
                            "      <th></th>\n",
                            "      <th></th>\n",
                            "      <th></th>\n",
                            "      <th></th>\n",
                            "      <th></th>\n",
                            "      <th></th>\n",
                            "    </tr>\n",
                            "  </thead>\n",
                            "  <tbody>\n",
                            "    <tr>\n",
                            "      <th>HKNA</th>\n",
                            "      <td>242</td>\n",
                            "      <td>-0.724389</td>\n",
                            "      <td>0.864553</td>\n",
                            "      <td>0.471924</td>\n",
                            "      <td>0.724429</td>\n",
                            "      <td>0.906446</td>\n",
                            "      <td>0.126675</td>\n",
                            "      <td>0.251523</td>\n",
                            "    </tr>\n",
                            "    <tr>\n",
                            "      <th>EPL</th>\n",
                            "      <td>43</td>\n",
                            "      <td>-0.433137</td>\n",
                            "      <td>0.511635</td>\n",
                            "      <td>0.272329</td>\n",
                            "      <td>0.435782</td>\n",
                            "      <td>0.920654</td>\n",
                            "      <td>0.089302</td>\n",
                            "      <td>0.460214</td>\n",
                            "    </tr>\n",
                            "    <tr>\n",
                            "      <th>c2</th>\n",
                            "      <td>39</td>\n",
                            "      <td>-0.302117</td>\n",
                            "      <td>0.472280</td>\n",
                            "      <td>0.363006</td>\n",
                            "      <td>0.397694</td>\n",
                            "      <td>0.935287</td>\n",
                            "      <td>0.091603</td>\n",
                            "      <td>0.745605</td>\n",
                            "    </tr>\n",
                            "  </tbody>\n",
                            "</table>\n",
                            "</div>"
                        ],
                        "text/plain": [
                            "               n      bias      rmse     urmse       mae        cc        si  \\\n",
                            "observation                                                                    \n",
                            "HKNA         242 -0.724389  0.864553  0.471924  0.724429  0.906446  0.126675   \n",
                            "EPL           43 -0.433137  0.511635  0.272329  0.435782  0.920654  0.089302   \n",
                            "c2            39 -0.302117  0.472280  0.363006  0.397694  0.935287  0.091603   \n",
                            "\n",
                            "                   r2  \n",
                            "observation            \n",
                            "HKNA         0.251523  \n",
                            "EPL          0.460214  \n",
                            "c2           0.745605  "
                        ]
                    },
                    "execution_count": 7,
                    "metadata": {},
                    "output_type": "execute_result"
                }
            ],
            "source": [
                "cc1.skill()"
            ]
        },
        {
            "cell_type": "code",
            "execution_count": 8,
            "metadata": {},
            "outputs": [
                {
                    "data": {
                        "text/html": [
                            "<div>\n",
                            "<style scoped>\n",
                            "    .dataframe tbody tr th:only-of-type {\n",
                            "        vertical-align: middle;\n",
                            "    }\n",
                            "\n",
                            "    .dataframe tbody tr th {\n",
                            "        vertical-align: top;\n",
                            "    }\n",
                            "\n",
                            "    .dataframe thead th {\n",
                            "        text-align: right;\n",
                            "    }\n",
                            "</style>\n",
                            "<table border=\"1\" class=\"dataframe\">\n",
                            "  <thead>\n",
                            "    <tr style=\"text-align: right;\">\n",
                            "      <th></th>\n",
                            "      <th>n</th>\n",
                            "      <th>bias</th>\n",
                            "      <th>rmse</th>\n",
                            "      <th>urmse</th>\n",
                            "      <th>mae</th>\n",
                            "      <th>cc</th>\n",
                            "      <th>si</th>\n",
                            "      <th>r2</th>\n",
                            "    </tr>\n",
                            "    <tr>\n",
                            "      <th>observation</th>\n",
                            "      <th></th>\n",
                            "      <th></th>\n",
                            "      <th></th>\n",
                            "      <th></th>\n",
                            "      <th></th>\n",
                            "      <th></th>\n",
                            "      <th></th>\n",
                            "      <th></th>\n",
                            "    </tr>\n",
                            "  </thead>\n",
                            "  <tbody>\n",
                            "    <tr>\n",
                            "      <th>HKNA</th>\n",
                            "      <td>386</td>\n",
                            "      <td>-0.202413</td>\n",
                            "      <td>0.355195</td>\n",
                            "      <td>0.291877</td>\n",
                            "      <td>0.255866</td>\n",
                            "      <td>0.971708</td>\n",
                            "      <td>0.093967</td>\n",
                            "      <td>0.903554</td>\n",
                            "    </tr>\n",
                            "    <tr>\n",
                            "      <th>EPL</th>\n",
                            "      <td>67</td>\n",
                            "      <td>-0.071238</td>\n",
                            "      <td>0.224923</td>\n",
                            "      <td>0.213344</td>\n",
                            "      <td>0.189455</td>\n",
                            "      <td>0.969760</td>\n",
                            "      <td>0.082482</td>\n",
                            "      <td>0.931793</td>\n",
                            "    </tr>\n",
                            "    <tr>\n",
                            "      <th>c2</th>\n",
                            "      <td>113</td>\n",
                            "      <td>-0.004701</td>\n",
                            "      <td>0.352470</td>\n",
                            "      <td>0.352439</td>\n",
                            "      <td>0.294758</td>\n",
                            "      <td>0.975050</td>\n",
                            "      <td>0.128010</td>\n",
                            "      <td>0.899121</td>\n",
                            "    </tr>\n",
                            "  </tbody>\n",
                            "</table>\n",
                            "</div>"
                        ],
                        "text/plain": [
                            "               n      bias      rmse     urmse       mae        cc        si  \\\n",
                            "observation                                                                    \n",
                            "HKNA         386 -0.202413  0.355195  0.291877  0.255866  0.971708  0.093967   \n",
                            "EPL           67 -0.071238  0.224923  0.213344  0.189455  0.969760  0.082482   \n",
                            "c2           113 -0.004701  0.352470  0.352439  0.294758  0.975050  0.128010   \n",
                            "\n",
                            "                   r2  \n",
                            "observation            \n",
                            "HKNA         0.903554  \n",
                            "EPL          0.931793  \n",
                            "c2           0.899121  "
                        ]
                    },
                    "execution_count": 8,
                    "metadata": {},
                    "output_type": "execute_result"
                }
            ],
            "source": [
                "cc2.skill()"
            ]
        },
        {
            "attachments": {},
            "cell_type": "markdown",
            "metadata": {},
            "source": [
                "## Merge the two Comparers"
            ]
        },
        {
            "cell_type": "code",
            "execution_count": 9,
            "metadata": {},
            "outputs": [],
            "source": [
                "cc = cc1.merge(cc2)"
            ]
        },
        {
            "cell_type": "code",
            "execution_count": 10,
            "metadata": {},
            "outputs": [
                {
                    "data": {
                        "text/html": [
                            "<div>\n",
                            "<style scoped>\n",
                            "    .dataframe tbody tr th:only-of-type {\n",
                            "        vertical-align: middle;\n",
                            "    }\n",
                            "\n",
                            "    .dataframe tbody tr th {\n",
                            "        vertical-align: top;\n",
                            "    }\n",
                            "\n",
                            "    .dataframe thead th {\n",
                            "        text-align: right;\n",
                            "    }\n",
                            "</style>\n",
                            "<table border=\"1\" class=\"dataframe\">\n",
                            "  <thead>\n",
                            "    <tr style=\"text-align: right;\">\n",
                            "      <th></th>\n",
                            "      <th></th>\n",
                            "      <th>n</th>\n",
                            "      <th>bias</th>\n",
                            "      <th>rmse</th>\n",
                            "      <th>urmse</th>\n",
                            "      <th>mae</th>\n",
                            "      <th>cc</th>\n",
                            "      <th>si</th>\n",
                            "      <th>r2</th>\n",
                            "    </tr>\n",
                            "    <tr>\n",
                            "      <th>model</th>\n",
                            "      <th>observation</th>\n",
                            "      <th></th>\n",
                            "      <th></th>\n",
                            "      <th></th>\n",
                            "      <th></th>\n",
                            "      <th></th>\n",
                            "      <th></th>\n",
                            "      <th></th>\n",
                            "      <th></th>\n",
                            "    </tr>\n",
                            "  </thead>\n",
                            "  <tbody>\n",
                            "    <tr>\n",
                            "      <th rowspan=\"3\" valign=\"top\">CMEMS</th>\n",
                            "      <th>HKNA</th>\n",
                            "      <td>242</td>\n",
                            "      <td>-0.724389</td>\n",
                            "      <td>0.864553</td>\n",
                            "      <td>0.471924</td>\n",
                            "      <td>0.724429</td>\n",
                            "      <td>0.906446</td>\n",
                            "      <td>0.126675</td>\n",
                            "      <td>0.251523</td>\n",
                            "    </tr>\n",
                            "    <tr>\n",
                            "      <th>EPL</th>\n",
                            "      <td>43</td>\n",
                            "      <td>-0.433137</td>\n",
                            "      <td>0.511635</td>\n",
                            "      <td>0.272329</td>\n",
                            "      <td>0.435782</td>\n",
                            "      <td>0.920654</td>\n",
                            "      <td>0.089302</td>\n",
                            "      <td>0.460214</td>\n",
                            "    </tr>\n",
                            "    <tr>\n",
                            "      <th>c2</th>\n",
                            "      <td>39</td>\n",
                            "      <td>-0.302117</td>\n",
                            "      <td>0.472280</td>\n",
                            "      <td>0.363006</td>\n",
                            "      <td>0.397694</td>\n",
                            "      <td>0.935287</td>\n",
                            "      <td>0.091603</td>\n",
                            "      <td>0.745605</td>\n",
                            "    </tr>\n",
                            "    <tr>\n",
                            "      <th rowspan=\"3\" valign=\"top\">MIKE21SW</th>\n",
                            "      <th>HKNA</th>\n",
                            "      <td>242</td>\n",
                            "      <td>-0.239775</td>\n",
                            "      <td>0.414822</td>\n",
                            "      <td>0.338504</td>\n",
                            "      <td>0.300389</td>\n",
                            "      <td>0.949700</td>\n",
                            "      <td>0.090862</td>\n",
                            "      <td>0.827687</td>\n",
                            "    </tr>\n",
                            "    <tr>\n",
                            "      <th>EPL</th>\n",
                            "      <td>43</td>\n",
                            "      <td>-0.084324</td>\n",
                            "      <td>0.207253</td>\n",
                            "      <td>0.189323</td>\n",
                            "      <td>0.175296</td>\n",
                            "      <td>0.972958</td>\n",
                            "      <td>0.062083</td>\n",
                            "      <td>0.911427</td>\n",
                            "    </tr>\n",
                            "    <tr>\n",
                            "      <th>c2</th>\n",
                            "      <td>39</td>\n",
                            "      <td>0.319975</td>\n",
                            "      <td>0.401442</td>\n",
                            "      <td>0.242429</td>\n",
                            "      <td>0.350164</td>\n",
                            "      <td>0.966030</td>\n",
                            "      <td>0.061176</td>\n",
                            "      <td>0.816197</td>\n",
                            "    </tr>\n",
                            "  </tbody>\n",
                            "</table>\n",
                            "</div>"
                        ],
                        "text/plain": [
                            "                        n      bias      rmse     urmse       mae        cc  \\\n",
                            "model    observation                                                          \n",
                            "CMEMS    HKNA         242 -0.724389  0.864553  0.471924  0.724429  0.906446   \n",
                            "         EPL           43 -0.433137  0.511635  0.272329  0.435782  0.920654   \n",
                            "         c2            39 -0.302117  0.472280  0.363006  0.397694  0.935287   \n",
                            "MIKE21SW HKNA         242 -0.239775  0.414822  0.338504  0.300389  0.949700   \n",
                            "         EPL           43 -0.084324  0.207253  0.189323  0.175296  0.972958   \n",
                            "         c2            39  0.319975  0.401442  0.242429  0.350164  0.966030   \n",
                            "\n",
                            "                            si        r2  \n",
                            "model    observation                      \n",
                            "CMEMS    HKNA         0.126675  0.251523  \n",
                            "         EPL          0.089302  0.460214  \n",
                            "         c2           0.091603  0.745605  \n",
                            "MIKE21SW HKNA         0.090862  0.827687  \n",
                            "         EPL          0.062083  0.911427  \n",
                            "         c2           0.061176  0.816197  "
                        ]
                    },
                    "execution_count": 10,
                    "metadata": {},
                    "output_type": "execute_result"
                }
            ],
            "source": [
                "cc.skill()"
            ]
        }
    ],
    "metadata": {
        "kernelspec": {
            "display_name": "modelskill",
            "language": "python",
            "name": "python3"
        },
        "language_info": {
            "codemirror_mode": {
                "name": "ipython",
                "version": 3
            },
            "file_extension": ".py",
            "mimetype": "text/x-python",
            "name": "python",
            "nbconvert_exporter": "python",
            "pygments_lexer": "ipython3",
            "version": "3.13.0"
        },
        "orig_nbformat": 2
    },
    "nbformat": 4,
    "nbformat_minor": 2
}
