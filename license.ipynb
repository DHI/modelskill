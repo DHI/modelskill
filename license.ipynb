{
  "cells": [
    {
      "cell_type": "markdown",
      "metadata": {},
      "source": [
        "# \n",
        "\n",
        "MIT License\n",
        "\n",
        "Copyright (c) 2024 DHI\n",
        "\n",
        "Permission is hereby granted, free of charge, to any person obtaining a\n",
        "copy of this software and associated documentation files (the\n",
        "“Software”), to deal in the Software without restriction, including\n",
        "without limitation the rights to use, copy, modify, merge, publish,\n",
        "distribute, sublicense, and/or sell copies of the Software, and to\n",
        "permit persons to whom the Software is furnished to do so, subject to\n",
        "the following conditions:\n",
        "\n",
        "The above copyright notice and this permission notice shall be included\n",
        "in all copies or substantial portions of the Software.\n",
        "\n",
        "THE SOFTWARE IS PROVIDED “AS IS”, WITHOUT WARRANTY OF ANY KIND, EXPRESS\n",
        "OR IMPLIED, INCLUDING BUT NOT LIMITED TO THE WARRANTIES OF\n",
        "MERCHANTABILITY, FITNESS FOR A PARTICULAR PURPOSE AND NONINFRINGEMENT.\n",
        "IN NO EVENT SHALL THE AUTHORS OR COPYRIGHT HOLDERS BE LIABLE FOR ANY\n",
        "CLAIM, DAMAGES OR OTHER LIABILITY, WHETHER IN AN ACTION OF CONTRACT,\n",
        "TORT OR OTHERWISE, ARISING FROM, OUT OF OR IN CONNECTION WITH THE\n",
        "SOFTWARE OR THE USE OR OTHER DEALINGS IN THE SOFTWARE."
      ],
      "id": "815f18b8-c38d-4101-9e19-3fe159142b33"
    }
  ],
  "nbformat": 4,
  "nbformat_minor": 5,
  "metadata": {
    "kernelspec": {
      "display_name": "Python 3",
      "language": "python",
      "name": "python3"
    }
  }
}